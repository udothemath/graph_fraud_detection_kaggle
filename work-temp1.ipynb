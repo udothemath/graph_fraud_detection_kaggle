{
 "cells": [
  {
   "cell_type": "code",
   "execution_count": 1,
   "metadata": {
    "_cell_guid": "b1076dfc-b9ad-4769-8c92-a6c4dae69d19",
    "_uuid": "8f2839f25d086af736a60e9eeb907d3b93b6e0e5",
    "execution": {
     "iopub.execute_input": "2021-03-02T02:22:06.375422Z",
     "iopub.status.busy": "2021-03-02T02:22:06.374367Z",
     "iopub.status.idle": "2021-03-02T02:22:06.380406Z",
     "shell.execute_reply": "2021-03-02T02:22:06.381248Z"
    },
    "papermill": {
     "duration": 0.050293,
     "end_time": "2021-03-02T02:22:06.381476",
     "exception": false,
     "start_time": "2021-03-02T02:22:06.331183",
     "status": "completed"
    },
    "tags": []
   },
   "outputs": [
    {
     "name": "stdout",
     "output_type": "stream",
     "text": [
      "/kaggle/input/2021-graph-vs-time-series/train_v2.csv\n",
      "/kaggle/input/2021-graph-vs-time-series/test_v2.csv\n",
      "/kaggle/input/2021-graph-vs-time-series/train.csv\n",
      "/kaggle/input/2021-graph-vs-time-series/test.csv\n"
     ]
    }
   ],
   "source": [
    "import numpy as np # linear algebra\n",
    "import pandas as pd # data processing, CSV file I/O (e.g. pd.read_csv)\n",
    "import os\n",
    "for dirname, _, filenames in os.walk('/kaggle/input'):\n",
    "    for filename in filenames:\n",
    "        print(os.path.join(dirname, filename))"
   ]
  },
  {
   "cell_type": "markdown",
   "metadata": {
    "papermill": {
     "duration": 0.034074,
     "end_time": "2021-03-02T02:22:06.451444",
     "exception": false,
     "start_time": "2021-03-02T02:22:06.417370",
     "status": "completed"
    },
    "tags": []
   },
   "source": [
    "# Baseline"
   ]
  },
  {
   "cell_type": "code",
   "execution_count": 2,
   "metadata": {
    "_cell_guid": "79c7e3d0-c299-4dcb-8224-4455121ee9b0",
    "_uuid": "d629ff2d2480ee46fbb7e2d37f6b5fab8052498a",
    "execution": {
     "iopub.execute_input": "2021-03-02T02:22:06.528325Z",
     "iopub.status.busy": "2021-03-02T02:22:06.527612Z",
     "iopub.status.idle": "2021-03-02T02:22:15.052522Z",
     "shell.execute_reply": "2021-03-02T02:22:15.051859Z"
    },
    "papermill": {
     "duration": 8.56635,
     "end_time": "2021-03-02T02:22:15.052657",
     "exception": false,
     "start_time": "2021-03-02T02:22:06.486307",
     "status": "completed"
    },
    "tags": []
   },
   "outputs": [
    {
     "name": "stderr",
     "output_type": "stream",
     "text": [
      "/opt/conda/lib/python3.7/site-packages/numpy/lib/arraysetops.py:568: FutureWarning: elementwise comparison failed; returning scalar instead, but in the future will perform elementwise comparison\n",
      "  mask |= (ar1 == a)\n"
     ]
    },
    {
     "name": "stdout",
     "output_type": "stream",
     "text": [
      "train 資料共 1006717 筆\n",
      "test 資料共 421665 筆\n",
      "train 資料欄位：Index(['acqic', 'bacno', 'cano', 'conam', 'contp', 'csmcu', 'ecfg', 'etymd',\n",
      "       'flbmk', 'flg_3dsmk', 'fraud_ind', 'hcefg', 'insfg', 'iterm', 'locdt',\n",
      "       'loctm', 'mcc', 'mchno', 'ovrlt', 'scity', 'stocn', 'stscd', 'txkey',\n",
      "       'hour', 'dt_dif1_chid', 'dt_dif2_cano', 'dt_dif1_cano_mchno',\n",
      "       'pct_of_mchno_fraud_1m', 'avg_mchno_fraud_amt_1m',\n",
      "       'avg_scity_fraud_amt_1w', 'ratio_mchno_notfraud_avg_amt_distance_1m',\n",
      "       'ratio_cumcnt_cano_ecfg_w', 'ratio_cumsum_bacno_d'],\n",
      "      dtype='object')\n"
     ]
    }
   ],
   "source": [
    "# 讀資料\n",
    "train = pd.read_csv('/kaggle/input/2021-graph-vs-time-series/train_v2.csv', index_col=0)\n",
    "test = pd.read_csv('/kaggle/input/2021-graph-vs-time-series/test_v2.csv', index_col=0)\n",
    "print(f'train 資料共 {train.shape[0]} 筆')\n",
    "print(f'test 資料共 {test.shape[0]} 筆')\n",
    "print(f'train 資料欄位：{train.columns}')"
   ]
  },
  {
   "cell_type": "code",
   "execution_count": 3,
   "metadata": {
    "execution": {
     "iopub.execute_input": "2021-03-02T02:22:15.131209Z",
     "iopub.status.busy": "2021-03-02T02:22:15.130090Z",
     "iopub.status.idle": "2021-03-02T02:22:16.200607Z",
     "shell.execute_reply": "2021-03-02T02:22:16.199992Z"
    },
    "papermill": {
     "duration": 1.112056,
     "end_time": "2021-03-02T02:22:16.200732",
     "exception": false,
     "start_time": "2021-03-02T02:22:15.088676",
     "status": "completed"
    },
    "tags": []
   },
   "outputs": [],
   "source": [
    "# 照時間排序，目的：切train/valid\n",
    "train = train.sort_values(by=['locdt','loctm','bacno']).reset_index(drop=True)"
   ]
  },
  {
   "cell_type": "code",
   "execution_count": 4,
   "metadata": {
    "execution": {
     "iopub.execute_input": "2021-03-02T02:22:16.305123Z",
     "iopub.status.busy": "2021-03-02T02:22:16.304032Z",
     "iopub.status.idle": "2021-03-02T02:22:16.307478Z",
     "shell.execute_reply": "2021-03-02T02:22:16.306905Z"
    },
    "papermill": {
     "duration": 0.071219,
     "end_time": "2021-03-02T02:22:16.307598",
     "exception": false,
     "start_time": "2021-03-02T02:22:16.236379",
     "status": "completed"
    },
    "tags": []
   },
   "outputs": [],
   "source": [
    "Y = train['fraud_ind']\n",
    "X = train.iloc[:,(-10):]"
   ]
  },
  {
   "cell_type": "code",
   "execution_count": 5,
   "metadata": {
    "execution": {
     "iopub.execute_input": "2021-03-02T02:22:16.418207Z",
     "iopub.status.busy": "2021-03-02T02:22:16.417121Z",
     "iopub.status.idle": "2021-03-02T02:22:16.747640Z",
     "shell.execute_reply": "2021-03-02T02:22:16.748231Z"
    },
    "papermill": {
     "duration": 0.404118,
     "end_time": "2021-03-02T02:22:16.748383",
     "exception": false,
     "start_time": "2021-03-02T02:22:16.344265",
     "status": "completed"
    },
    "tags": []
   },
   "outputs": [
    {
     "data": {
      "text/html": [
       "<div>\n",
       "<style scoped>\n",
       "    .dataframe tbody tr th:only-of-type {\n",
       "        vertical-align: middle;\n",
       "    }\n",
       "\n",
       "    .dataframe tbody tr th {\n",
       "        vertical-align: top;\n",
       "    }\n",
       "\n",
       "    .dataframe thead th {\n",
       "        text-align: right;\n",
       "    }\n",
       "</style>\n",
       "<table border=\"1\" class=\"dataframe\">\n",
       "  <thead>\n",
       "    <tr style=\"text-align: right;\">\n",
       "      <th></th>\n",
       "      <th>hour</th>\n",
       "      <th>dt_dif1_chid</th>\n",
       "      <th>dt_dif2_cano</th>\n",
       "      <th>dt_dif1_cano_mchno</th>\n",
       "      <th>pct_of_mchno_fraud_1m</th>\n",
       "      <th>avg_mchno_fraud_amt_1m</th>\n",
       "      <th>avg_scity_fraud_amt_1w</th>\n",
       "      <th>ratio_mchno_notfraud_avg_amt_distance_1m</th>\n",
       "      <th>ratio_cumcnt_cano_ecfg_w</th>\n",
       "      <th>ratio_cumsum_bacno_d</th>\n",
       "    </tr>\n",
       "  </thead>\n",
       "  <tbody>\n",
       "    <tr>\n",
       "      <th>count</th>\n",
       "      <td>1.006717e+06</td>\n",
       "      <td>1.006717e+06</td>\n",
       "      <td>1.006717e+06</td>\n",
       "      <td>1.006717e+06</td>\n",
       "      <td>1.006717e+06</td>\n",
       "      <td>1.006717e+06</td>\n",
       "      <td>1.006717e+06</td>\n",
       "      <td>1.006717e+06</td>\n",
       "      <td>1.006717e+06</td>\n",
       "      <td>1.006717e+06</td>\n",
       "    </tr>\n",
       "    <tr>\n",
       "      <th>mean</th>\n",
       "      <td>1.433051e+01</td>\n",
       "      <td>2.595823e+03</td>\n",
       "      <td>1.144425e+03</td>\n",
       "      <td>4.831213e+02</td>\n",
       "      <td>1.265799e-02</td>\n",
       "      <td>1.190764e+03</td>\n",
       "      <td>5.119724e+03</td>\n",
       "      <td>5.790267e+06</td>\n",
       "      <td>1.057681e+04</td>\n",
       "      <td>1.730814e+07</td>\n",
       "    </tr>\n",
       "    <tr>\n",
       "      <th>std</th>\n",
       "      <td>5.205202e+00</td>\n",
       "      <td>8.375091e+03</td>\n",
       "      <td>6.074580e+03</td>\n",
       "      <td>3.881298e+03</td>\n",
       "      <td>6.832390e-02</td>\n",
       "      <td>4.969185e+03</td>\n",
       "      <td>8.368379e+03</td>\n",
       "      <td>2.582179e+07</td>\n",
       "      <td>9.287047e+04</td>\n",
       "      <td>3.919981e+07</td>\n",
       "    </tr>\n",
       "    <tr>\n",
       "      <th>min</th>\n",
       "      <td>0.000000e+00</td>\n",
       "      <td>0.000000e+00</td>\n",
       "      <td>0.000000e+00</td>\n",
       "      <td>0.000000e+00</td>\n",
       "      <td>0.000000e+00</td>\n",
       "      <td>0.000000e+00</td>\n",
       "      <td>0.000000e+00</td>\n",
       "      <td>-1.000000e+00</td>\n",
       "      <td>0.000000e+00</td>\n",
       "      <td>0.000000e+00</td>\n",
       "    </tr>\n",
       "    <tr>\n",
       "      <th>25%</th>\n",
       "      <td>1.100000e+01</td>\n",
       "      <td>0.000000e+00</td>\n",
       "      <td>0.000000e+00</td>\n",
       "      <td>0.000000e+00</td>\n",
       "      <td>0.000000e+00</td>\n",
       "      <td>0.000000e+00</td>\n",
       "      <td>0.000000e+00</td>\n",
       "      <td>-9.808583e-01</td>\n",
       "      <td>0.000000e+00</td>\n",
       "      <td>1.279215e+00</td>\n",
       "    </tr>\n",
       "    <tr>\n",
       "      <th>50%</th>\n",
       "      <td>1.500000e+01</td>\n",
       "      <td>0.000000e+00</td>\n",
       "      <td>0.000000e+00</td>\n",
       "      <td>0.000000e+00</td>\n",
       "      <td>0.000000e+00</td>\n",
       "      <td>0.000000e+00</td>\n",
       "      <td>3.457453e+03</td>\n",
       "      <td>-8.005353e-01</td>\n",
       "      <td>0.000000e+00</td>\n",
       "      <td>3.399804e+00</td>\n",
       "    </tr>\n",
       "    <tr>\n",
       "      <th>75%</th>\n",
       "      <td>1.800000e+01</td>\n",
       "      <td>2.500000e+01</td>\n",
       "      <td>0.000000e+00</td>\n",
       "      <td>0.000000e+00</td>\n",
       "      <td>6.168270e-05</td>\n",
       "      <td>0.000000e+00</td>\n",
       "      <td>6.268214e+03</td>\n",
       "      <td>9.976221e-01</td>\n",
       "      <td>9.230741e-01</td>\n",
       "      <td>1.657059e+01</td>\n",
       "    </tr>\n",
       "    <tr>\n",
       "      <th>max</th>\n",
       "      <td>2.300000e+01</td>\n",
       "      <td>8.631200e+04</td>\n",
       "      <td>8.631100e+04</td>\n",
       "      <td>8.631200e+04</td>\n",
       "      <td>1.000000e+00</td>\n",
       "      <td>3.610070e+04</td>\n",
       "      <td>7.498529e+04</td>\n",
       "      <td>5.833700e+08</td>\n",
       "      <td>7.700000e+06</td>\n",
       "      <td>1.320937e+09</td>\n",
       "    </tr>\n",
       "  </tbody>\n",
       "</table>\n",
       "</div>"
      ],
      "text/plain": [
       "               hour  dt_dif1_chid  dt_dif2_cano  dt_dif1_cano_mchno  \\\n",
       "count  1.006717e+06  1.006717e+06  1.006717e+06        1.006717e+06   \n",
       "mean   1.433051e+01  2.595823e+03  1.144425e+03        4.831213e+02   \n",
       "std    5.205202e+00  8.375091e+03  6.074580e+03        3.881298e+03   \n",
       "min    0.000000e+00  0.000000e+00  0.000000e+00        0.000000e+00   \n",
       "25%    1.100000e+01  0.000000e+00  0.000000e+00        0.000000e+00   \n",
       "50%    1.500000e+01  0.000000e+00  0.000000e+00        0.000000e+00   \n",
       "75%    1.800000e+01  2.500000e+01  0.000000e+00        0.000000e+00   \n",
       "max    2.300000e+01  8.631200e+04  8.631100e+04        8.631200e+04   \n",
       "\n",
       "       pct_of_mchno_fraud_1m  avg_mchno_fraud_amt_1m  avg_scity_fraud_amt_1w  \\\n",
       "count           1.006717e+06            1.006717e+06            1.006717e+06   \n",
       "mean            1.265799e-02            1.190764e+03            5.119724e+03   \n",
       "std             6.832390e-02            4.969185e+03            8.368379e+03   \n",
       "min             0.000000e+00            0.000000e+00            0.000000e+00   \n",
       "25%             0.000000e+00            0.000000e+00            0.000000e+00   \n",
       "50%             0.000000e+00            0.000000e+00            3.457453e+03   \n",
       "75%             6.168270e-05            0.000000e+00            6.268214e+03   \n",
       "max             1.000000e+00            3.610070e+04            7.498529e+04   \n",
       "\n",
       "       ratio_mchno_notfraud_avg_amt_distance_1m  ratio_cumcnt_cano_ecfg_w  \\\n",
       "count                              1.006717e+06              1.006717e+06   \n",
       "mean                               5.790267e+06              1.057681e+04   \n",
       "std                                2.582179e+07              9.287047e+04   \n",
       "min                               -1.000000e+00              0.000000e+00   \n",
       "25%                               -9.808583e-01              0.000000e+00   \n",
       "50%                               -8.005353e-01              0.000000e+00   \n",
       "75%                                9.976221e-01              9.230741e-01   \n",
       "max                                5.833700e+08              7.700000e+06   \n",
       "\n",
       "       ratio_cumsum_bacno_d  \n",
       "count          1.006717e+06  \n",
       "mean           1.730814e+07  \n",
       "std            3.919981e+07  \n",
       "min            0.000000e+00  \n",
       "25%            1.279215e+00  \n",
       "50%            3.399804e+00  \n",
       "75%            1.657059e+01  \n",
       "max            1.320937e+09  "
      ]
     },
     "metadata": {},
     "output_type": "display_data"
    },
    {
     "data": {
      "text/plain": [
       "hour                                        0\n",
       "dt_dif1_chid                                0\n",
       "dt_dif2_cano                                0\n",
       "dt_dif1_cano_mchno                          0\n",
       "pct_of_mchno_fraud_1m                       0\n",
       "avg_mchno_fraud_amt_1m                      0\n",
       "avg_scity_fraud_amt_1w                      0\n",
       "ratio_mchno_notfraud_avg_amt_distance_1m    0\n",
       "ratio_cumcnt_cano_ecfg_w                    0\n",
       "ratio_cumsum_bacno_d                        0\n",
       "dtype: int64"
      ]
     },
     "metadata": {},
     "output_type": "display_data"
    }
   ],
   "source": [
    "display(X.describe())\n",
    "display(X.isnull().sum())"
   ]
  },
  {
   "cell_type": "code",
   "execution_count": 6,
   "metadata": {
    "execution": {
     "iopub.execute_input": "2021-03-02T02:22:16.874577Z",
     "iopub.status.busy": "2021-03-02T02:22:16.873704Z",
     "iopub.status.idle": "2021-03-02T02:22:16.878211Z",
     "shell.execute_reply": "2021-03-02T02:22:16.877604Z"
    },
    "papermill": {
     "duration": 0.091747,
     "end_time": "2021-03-02T02:22:16.878323",
     "exception": false,
     "start_time": "2021-03-02T02:22:16.786576",
     "status": "completed"
    },
    "tags": []
   },
   "outputs": [],
   "source": [
    "# 切出 train/valid\n",
    "num = int(np.ceil(len(X)*0.8))\n",
    "x_train = X.iloc[:num, :]\n",
    "x_valid = X.iloc[num:, :]\n",
    "y_train = Y[:num]\n",
    "y_valid = Y[num:]"
   ]
  },
  {
   "cell_type": "code",
   "execution_count": 7,
   "metadata": {
    "execution": {
     "iopub.execute_input": "2021-03-02T02:22:16.959258Z",
     "iopub.status.busy": "2021-03-02T02:22:16.958378Z",
     "iopub.status.idle": "2021-03-02T02:22:29.303903Z",
     "shell.execute_reply": "2021-03-02T02:22:29.304976Z"
    },
    "papermill": {
     "duration": 12.389286,
     "end_time": "2021-03-02T02:22:29.305161",
     "exception": false,
     "start_time": "2021-03-02T02:22:16.915875",
     "status": "completed"
    },
    "tags": []
   },
   "outputs": [
    {
     "data": {
      "text/html": [
       "<style type='text/css'>\n",
       ".datatable table.frame { margin-bottom: 0; }\n",
       ".datatable table.frame thead { border-bottom: none; }\n",
       ".datatable table.frame tr.coltypes td {  color: #FFFFFF;  line-height: 6px;  padding: 0 0.5em;}\n",
       ".datatable .bool    { background: #DDDD99; }\n",
       ".datatable .object  { background: #565656; }\n",
       ".datatable .int     { background: #5D9E5D; }\n",
       ".datatable .float   { background: #4040CC; }\n",
       ".datatable .str     { background: #CC4040; }\n",
       ".datatable .row_index {  background: var(--jp-border-color3);  border-right: 1px solid var(--jp-border-color0);  color: var(--jp-ui-font-color3);  font-size: 9px;}\n",
       ".datatable .frame tr.coltypes .row_index {  background: var(--jp-border-color0);}\n",
       ".datatable th:nth-child(2) { padding-left: 12px; }\n",
       ".datatable .hellipsis {  color: var(--jp-cell-editor-border-color);}\n",
       ".datatable .vellipsis {  background: var(--jp-layout-color0);  color: var(--jp-cell-editor-border-color);}\n",
       ".datatable .na {  color: var(--jp-cell-editor-border-color);  font-size: 80%;}\n",
       ".datatable .footer { font-size: 9px; }\n",
       ".datatable .frame_dimensions {  background: var(--jp-border-color3);  border-top: 1px solid var(--jp-border-color0);  color: var(--jp-ui-font-color3);  display: inline-block;  opacity: 0.6;  padding: 1px 10px 1px 5px;}\n",
       "</style>\n"
      ],
      "text/plain": [
       "<IPython.core.display.HTML object>"
      ]
     },
     "metadata": {},
     "output_type": "display_data"
    },
    {
     "data": {
      "text/plain": [
       "LGBMClassifier()"
      ]
     },
     "execution_count": 7,
     "metadata": {},
     "output_type": "execute_result"
    }
   ],
   "source": [
    "from lightgbm import LGBMClassifier\n",
    "lgbc = LGBMClassifier()\n",
    "lgbc.fit(x_train, y_train)"
   ]
  },
  {
   "cell_type": "code",
   "execution_count": 8,
   "metadata": {
    "execution": {
     "iopub.execute_input": "2021-03-02T02:22:29.406478Z",
     "iopub.status.busy": "2021-03-02T02:22:29.405667Z",
     "iopub.status.idle": "2021-03-02T02:22:30.143333Z",
     "shell.execute_reply": "2021-03-02T02:22:30.144036Z"
    },
    "papermill": {
     "duration": 0.7916,
     "end_time": "2021-03-02T02:22:30.144224",
     "exception": false,
     "start_time": "2021-03-02T02:22:29.352624",
     "status": "completed"
    },
    "tags": []
   },
   "outputs": [
    {
     "data": {
      "text/plain": [
       "0.46718506998444786"
      ]
     },
     "metadata": {},
     "output_type": "display_data"
    }
   ],
   "source": [
    "from sklearn.metrics import f1_score\n",
    "\n",
    "y_valid_pred  = lgbc.predict(x_valid).astype(int)\n",
    "display(f1_score(y_valid, y_valid_pred))"
   ]
  },
  {
   "cell_type": "code",
   "execution_count": 9,
   "metadata": {
    "execution": {
     "iopub.execute_input": "2021-03-02T02:22:30.287100Z",
     "iopub.status.busy": "2021-03-02T02:22:30.276938Z",
     "iopub.status.idle": "2021-03-02T02:22:30.619430Z",
     "shell.execute_reply": "2021-03-02T02:22:30.620211Z"
    },
    "papermill": {
     "duration": 0.427911,
     "end_time": "2021-03-02T02:22:30.620409",
     "exception": false,
     "start_time": "2021-03-02T02:22:30.192498",
     "status": "completed"
    },
    "tags": []
   },
   "outputs": [
    {
     "name": "stdout",
     "output_type": "stream",
     "text": [
      "Accuracy: 99.15%\n"
     ]
    }
   ],
   "source": [
    "from sklearn.metrics import accuracy_score\n",
    "\n",
    "# evaluate predictions\n",
    "predictions = [round(value) for value in y_valid_pred]\n",
    "accuracy = accuracy_score(y_valid, predictions)\n",
    "print(f\"Accuracy: {accuracy * 100.0:.2f}%\")"
   ]
  },
  {
   "cell_type": "code",
   "execution_count": 10,
   "metadata": {
    "execution": {
     "iopub.execute_input": "2021-03-02T02:22:30.722241Z",
     "iopub.status.busy": "2021-03-02T02:22:30.720609Z",
     "iopub.status.idle": "2021-03-02T02:22:32.337127Z",
     "shell.execute_reply": "2021-03-02T02:22:32.338169Z"
    },
    "papermill": {
     "duration": 1.677289,
     "end_time": "2021-03-02T02:22:32.338377",
     "exception": false,
     "start_time": "2021-03-02T02:22:30.661088",
     "status": "completed"
    },
    "tags": []
   },
   "outputs": [
    {
     "data": {
      "text/plain": [
       "(421665, 2)"
      ]
     },
     "metadata": {},
     "output_type": "display_data"
    },
    {
     "data": {
      "text/plain": [
       "0    420744\n",
       "1       921\n",
       "Name: fraud_ind, dtype: int64"
      ]
     },
     "metadata": {},
     "output_type": "display_data"
    }
   ],
   "source": [
    "y_pred_test = lgbc.predict(test[X.columns]).astype(int)\n",
    "submit_df = pd.DataFrame({'txkey':test.txkey, 'fraud_ind':y_pred_test})\n",
    "display(submit_df.shape)\n",
    "display(submit_df.fraud_ind.value_counts())"
   ]
  },
  {
   "cell_type": "code",
   "execution_count": 11,
   "metadata": {
    "execution": {
     "iopub.execute_input": "2021-03-02T02:22:32.552767Z",
     "iopub.status.busy": "2021-03-02T02:22:32.551719Z",
     "iopub.status.idle": "2021-03-02T02:22:33.895491Z",
     "shell.execute_reply": "2021-03-02T02:22:33.894194Z"
    },
    "papermill": {
     "duration": 1.443826,
     "end_time": "2021-03-02T02:22:33.895632",
     "exception": false,
     "start_time": "2021-03-02T02:22:32.451806",
     "status": "completed"
    },
    "tags": []
   },
   "outputs": [],
   "source": [
    "submit_df.to_csv('baseline.csv',index=False)"
   ]
  },
  {
   "cell_type": "markdown",
   "metadata": {
    "papermill": {
     "duration": 0.041448,
     "end_time": "2021-03-02T02:22:33.978685",
     "exception": false,
     "start_time": "2021-03-02T02:22:33.937237",
     "status": "completed"
    },
    "tags": []
   },
   "source": [
    "# Graph"
   ]
  },
  {
   "cell_type": "code",
   "execution_count": 12,
   "metadata": {
    "execution": {
     "iopub.execute_input": "2021-03-02T02:22:34.067807Z",
     "iopub.status.busy": "2021-03-02T02:22:34.066897Z",
     "iopub.status.idle": "2021-03-02T02:22:34.657467Z",
     "shell.execute_reply": "2021-03-02T02:22:34.656418Z"
    },
    "papermill": {
     "duration": 0.637125,
     "end_time": "2021-03-02T02:22:34.657601",
     "exception": false,
     "start_time": "2021-03-02T02:22:34.020476",
     "status": "completed"
    },
    "tags": []
   },
   "outputs": [],
   "source": [
    "import networkx as nx"
   ]
  },
  {
   "cell_type": "code",
   "execution_count": 13,
   "metadata": {
    "execution": {
     "iopub.execute_input": "2021-03-02T02:22:34.750675Z",
     "iopub.status.busy": "2021-03-02T02:22:34.749907Z",
     "iopub.status.idle": "2021-03-02T02:22:41.042279Z",
     "shell.execute_reply": "2021-03-02T02:22:41.043460Z"
    },
    "papermill": {
     "duration": 6.343926,
     "end_time": "2021-03-02T02:22:41.043625",
     "exception": false,
     "start_time": "2021-03-02T02:22:34.699699",
     "status": "completed"
    },
    "tags": []
   },
   "outputs": [
    {
     "name": "stdout",
     "output_type": "stream",
     "text": [
      "g_data 資料共 1943452 筆\n",
      "g_data 資料欄位：Index(['acqic', 'bacno', 'cano', 'conam', 'contp', 'csmcu', 'ecfg', 'etymd',\n",
      "       'flbmk', 'flg_3dsmk', 'fraud_ind', 'hcefg', 'insfg', 'iterm', 'locdt',\n",
      "       'loctm', 'mcc', 'mchno', 'ovrlt', 'scity', 'stocn', 'stscd', 'txkey'],\n",
      "      dtype='object')\n"
     ]
    }
   ],
   "source": [
    "# 讀資料\n",
    "g_train = pd.read_csv('/kaggle/input/2021-graph-vs-time-series/train.csv')\n",
    "g_test = pd.read_csv('/kaggle/input/2021-graph-vs-time-series/test.csv')\n",
    "g_data = g_train.append(g_test)\n",
    "print(f'g_data 資料共 {g_data.shape[0]} 筆')\n",
    "print(f'g_data 資料欄位：{g_data.columns}')"
   ]
  },
  {
   "cell_type": "code",
   "execution_count": 14,
   "metadata": {
    "execution": {
     "iopub.execute_input": "2021-03-02T02:22:41.137972Z",
     "iopub.status.busy": "2021-03-02T02:22:41.136429Z",
     "iopub.status.idle": "2021-03-02T02:22:41.794236Z",
     "shell.execute_reply": "2021-03-02T02:22:41.794798Z"
    },
    "papermill": {
     "duration": 0.70816,
     "end_time": "2021-03-02T02:22:41.794964",
     "exception": false,
     "start_time": "2021-03-02T02:22:41.086804",
     "status": "completed"
    },
    "tags": []
   },
   "outputs": [
    {
     "data": {
      "text/html": [
       "<div>\n",
       "<style scoped>\n",
       "    .dataframe tbody tr th:only-of-type {\n",
       "        vertical-align: middle;\n",
       "    }\n",
       "\n",
       "    .dataframe tbody tr th {\n",
       "        vertical-align: top;\n",
       "    }\n",
       "\n",
       "    .dataframe thead th {\n",
       "        text-align: right;\n",
       "    }\n",
       "</style>\n",
       "<table border=\"1\" class=\"dataframe\">\n",
       "  <thead>\n",
       "    <tr style=\"text-align: right;\">\n",
       "      <th></th>\n",
       "      <th>bacno</th>\n",
       "      <th>mchno</th>\n",
       "    </tr>\n",
       "  </thead>\n",
       "  <tbody>\n",
       "    <tr>\n",
       "      <th>0</th>\n",
       "      <td>113261</td>\n",
       "      <td>59333</td>\n",
       "    </tr>\n",
       "    <tr>\n",
       "      <th>1</th>\n",
       "      <td>134508</td>\n",
       "      <td>0</td>\n",
       "    </tr>\n",
       "  </tbody>\n",
       "</table>\n",
       "</div>"
      ],
      "text/plain": [
       "    bacno  mchno\n",
       "0  113261  59333\n",
       "1  134508      0"
      ]
     },
     "metadata": {},
     "output_type": "display_data"
    },
    {
     "data": {
      "text/plain": [
       "(1021484, 2)"
      ]
     },
     "execution_count": 14,
     "metadata": {},
     "output_type": "execute_result"
    }
   ],
   "source": [
    "# 整理成 edgelist 樣貌\n",
    "node_col = ['bacno','mchno']\n",
    "g_node = g_data[node_col].drop_duplicates().reset_index(drop=True)\n",
    "display(g_node.head(2))\n",
    "g_node.shape"
   ]
  },
  {
   "cell_type": "code",
   "execution_count": 15,
   "metadata": {
    "execution": {
     "iopub.execute_input": "2021-03-02T02:22:41.889288Z",
     "iopub.status.busy": "2021-03-02T02:22:41.887690Z",
     "iopub.status.idle": "2021-03-02T02:22:42.098439Z",
     "shell.execute_reply": "2021-03-02T02:22:42.099194Z"
    },
    "papermill": {
     "duration": 0.260943,
     "end_time": "2021-03-02T02:22:42.099359",
     "exception": false,
     "start_time": "2021-03-02T02:22:41.838416",
     "status": "completed"
    },
    "tags": []
   },
   "outputs": [
    {
     "name": "stdout",
     "output_type": "stream",
     "text": [
      "163886\n"
     ]
    },
    {
     "data": {
      "text/plain": [
       "200000"
      ]
     },
     "execution_count": 15,
     "metadata": {},
     "output_type": "execute_result"
    }
   ],
   "source": [
    "# 讓 bacno 和 mchno 節點編號不同\n",
    "print(g_node.bacno.max())\n",
    "g_node['mchno'] = g_node.mchno+200000\n",
    "min(g_node.mchno)"
   ]
  },
  {
   "cell_type": "code",
   "execution_count": 16,
   "metadata": {
    "execution": {
     "iopub.execute_input": "2021-03-02T02:22:42.238376Z",
     "iopub.status.busy": "2021-03-02T02:22:42.228151Z",
     "iopub.status.idle": "2021-03-02T02:22:47.148695Z",
     "shell.execute_reply": "2021-03-02T02:22:47.149589Z"
    },
    "papermill": {
     "duration": 5.005627,
     "end_time": "2021-03-02T02:22:47.149751",
     "exception": false,
     "start_time": "2021-03-02T02:22:42.144124",
     "status": "completed"
    },
    "tags": []
   },
   "outputs": [
    {
     "data": {
      "text/plain": [
       "networkx.classes.graph.Graph"
      ]
     },
     "execution_count": 16,
     "metadata": {},
     "output_type": "execute_result"
    }
   ],
   "source": [
    "G = nx.convert_matrix.from_pandas_edgelist(g_node, source='bacno', target='mchno')\n",
    "# G is an undirected graph\n",
    "type(G)"
   ]
  },
  {
   "cell_type": "code",
   "execution_count": 17,
   "metadata": {
    "execution": {
     "iopub.execute_input": "2021-03-02T02:22:47.248510Z",
     "iopub.status.busy": "2021-03-02T02:22:47.247343Z",
     "iopub.status.idle": "2021-03-02T02:22:47.297509Z",
     "shell.execute_reply": "2021-03-02T02:22:47.298489Z"
    },
    "papermill": {
     "duration": 0.10364,
     "end_time": "2021-03-02T02:22:47.298697",
     "exception": false,
     "start_time": "2021-03-02T02:22:47.195057",
     "status": "completed"
    },
    "tags": []
   },
   "outputs": [
    {
     "name": "stdout",
     "output_type": "stream",
     "text": [
      "(1021484, 2)\n",
      "163185\n",
      "102783\n",
      "265968\n"
     ]
    }
   ],
   "source": [
    "print(g_node.shape)\n",
    "print(g_node.bacno.nunique())\n",
    "print(g_node.mchno.nunique())\n",
    "print(g_node.bacno.nunique()+g_node.mchno.nunique())"
   ]
  },
  {
   "cell_type": "code",
   "execution_count": 18,
   "metadata": {
    "execution": {
     "iopub.execute_input": "2021-03-02T02:22:47.430919Z",
     "iopub.status.busy": "2021-03-02T02:22:47.415567Z",
     "iopub.status.idle": "2021-03-02T02:22:47.630417Z",
     "shell.execute_reply": "2021-03-02T02:22:47.631204Z"
    },
    "papermill": {
     "duration": 0.285309,
     "end_time": "2021-03-02T02:22:47.631395",
     "exception": false,
     "start_time": "2021-03-02T02:22:47.346086",
     "status": "completed"
    },
    "tags": []
   },
   "outputs": [
    {
     "name": "stdout",
     "output_type": "stream",
     "text": [
      "number of nodes=265968; number of edges=1021484\n"
     ]
    }
   ],
   "source": [
    "num_edges = G.number_of_edges()\n",
    "num_nodes = G.number_of_nodes()\n",
    "print(f'number of nodes={num_nodes}; number of edges={num_edges}')"
   ]
  },
  {
   "cell_type": "code",
   "execution_count": 19,
   "metadata": {
    "execution": {
     "iopub.execute_input": "2021-03-02T02:22:47.780396Z",
     "iopub.status.busy": "2021-03-02T02:22:47.764928Z",
     "iopub.status.idle": "2021-03-02T02:22:50.165826Z",
     "shell.execute_reply": "2021-03-02T02:22:50.166409Z"
    },
    "papermill": {
     "duration": 2.488151,
     "end_time": "2021-03-02T02:22:50.166559",
     "exception": false,
     "start_time": "2021-03-02T02:22:47.678408",
     "status": "completed"
    },
    "tags": []
   },
   "outputs": [
    {
     "data": {
      "text/plain": [
       "[263543, 24, 20, 15, 10]"
      ]
     },
     "execution_count": 19,
     "metadata": {},
     "output_type": "execute_result"
    }
   ],
   "source": [
    "largest_cc = max(nx.connected_components(G), key=len)\n",
    "[len(c) for c in sorted(nx.connected_components(G), key=len, reverse=True)][:5]"
   ]
  },
  {
   "cell_type": "code",
   "execution_count": 20,
   "metadata": {
    "execution": {
     "iopub.execute_input": "2021-03-02T02:22:50.266606Z",
     "iopub.status.busy": "2021-03-02T02:22:50.265623Z",
     "iopub.status.idle": "2021-03-02T02:22:56.109153Z",
     "shell.execute_reply": "2021-03-02T02:22:56.107916Z"
    },
    "papermill": {
     "duration": 5.895838,
     "end_time": "2021-03-02T02:22:56.109287",
     "exception": false,
     "start_time": "2021-03-02T02:22:50.213449",
     "status": "completed"
    },
    "tags": []
   },
   "outputs": [],
   "source": [
    "(g_node.head())\n",
    "nx.write_edgelist(G, \"test.edgelist\")"
   ]
  },
  {
   "cell_type": "markdown",
   "metadata": {
    "papermill": {
     "duration": 0.046656,
     "end_time": "2021-03-02T02:22:56.203116",
     "exception": false,
     "start_time": "2021-03-02T02:22:56.156460",
     "status": "completed"
    },
    "tags": []
   },
   "source": [
    "# deepwalk"
   ]
  },
  {
   "cell_type": "code",
   "execution_count": 21,
   "metadata": {
    "execution": {
     "iopub.execute_input": "2021-03-02T02:22:56.304424Z",
     "iopub.status.busy": "2021-03-02T02:22:56.303531Z",
     "iopub.status.idle": "2021-03-02T02:23:07.438708Z",
     "shell.execute_reply": "2021-03-02T02:23:07.438088Z"
    },
    "papermill": {
     "duration": 11.188036,
     "end_time": "2021-03-02T02:23:07.438886",
     "exception": false,
     "start_time": "2021-03-02T02:22:56.250850",
     "status": "completed"
    },
    "tags": []
   },
   "outputs": [
    {
     "name": "stdout",
     "output_type": "stream",
     "text": [
      "Collecting deepwalk\r\n",
      "  Downloading deepwalk-1.0.3-py2.py3-none-any.whl (10 kB)\r\n",
      "Requirement already satisfied: gensim>=1.0.0 in /opt/conda/lib/python3.7/site-packages (from deepwalk) (3.8.3)\r\n",
      "Requirement already satisfied: scipy>=0.15.0 in /opt/conda/lib/python3.7/site-packages (from deepwalk) (1.4.1)\r\n",
      "Requirement already satisfied: psutil>=2.1.1 in /opt/conda/lib/python3.7/site-packages (from deepwalk) (5.7.0)\r\n",
      "Requirement already satisfied: wheel>=0.23.0 in /opt/conda/lib/python3.7/site-packages (from deepwalk) (0.34.2)\r\n",
      "Requirement already satisfied: Cython>=0.20.2 in /opt/conda/lib/python3.7/site-packages (from deepwalk) (0.29.21)\r\n",
      "Requirement already satisfied: six>=1.7.3 in /opt/conda/lib/python3.7/site-packages (from deepwalk) (1.14.0)\r\n",
      "Collecting argparse>=1.2.1\r\n",
      "  Downloading argparse-1.4.0-py2.py3-none-any.whl (23 kB)\r\n",
      "Collecting futures>=2.1.6\r\n",
      "  Downloading futures-3.1.1-py3-none-any.whl (2.8 kB)\r\n",
      "Requirement already satisfied: scipy>=0.15.0 in /opt/conda/lib/python3.7/site-packages (from deepwalk) (1.4.1)\r\n",
      "Requirement already satisfied: numpy>=1.11.3 in /opt/conda/lib/python3.7/site-packages (from gensim>=1.0.0->deepwalk) (1.18.5)\r\n",
      "Requirement already satisfied: six>=1.7.3 in /opt/conda/lib/python3.7/site-packages (from deepwalk) (1.14.0)\r\n",
      "Requirement already satisfied: smart-open>=1.8.1 in /opt/conda/lib/python3.7/site-packages (from gensim>=1.0.0->deepwalk) (4.0.1)\r\n",
      "Requirement already satisfied: numpy>=1.11.3 in /opt/conda/lib/python3.7/site-packages (from gensim>=1.0.0->deepwalk) (1.18.5)\r\n",
      "Installing collected packages: futures, argparse, deepwalk\r\n",
      "Successfully installed argparse-1.4.0 deepwalk-1.0.3 futures-3.1.1\r\n",
      "\u001b[33mWARNING: You are using pip version 20.3.1; however, version 21.0.1 is available.\r\n",
      "You should consider upgrading via the '/opt/conda/bin/python3.7 -m pip install --upgrade pip' command.\u001b[0m\r\n"
     ]
    }
   ],
   "source": [
    "!pip install deepwalk"
   ]
  },
  {
   "cell_type": "code",
   "execution_count": 22,
   "metadata": {
    "execution": {
     "iopub.execute_input": "2021-03-02T02:23:07.563678Z",
     "iopub.status.busy": "2021-03-02T02:23:07.562479Z",
     "iopub.status.idle": "2021-03-02T02:26:57.242792Z",
     "shell.execute_reply": "2021-03-02T02:26:57.241533Z"
    },
    "papermill": {
     "duration": 229.742414,
     "end_time": "2021-03-02T02:26:57.242967",
     "exception": false,
     "start_time": "2021-03-02T02:23:07.500553",
     "status": "completed"
    },
    "tags": []
   },
   "outputs": [
    {
     "name": "stdout",
     "output_type": "stream",
     "text": [
      "Number of nodes: 265968\r\n",
      "Number of walks: 265968\r\n",
      "Data size (walks*length): 1329840\r\n",
      "Walking...\r\n",
      "Training...\r\n"
     ]
    }
   ],
   "source": [
    "# 執行deepwalk: 參數都設小一點不然跑不動\n",
    "!deepwalk --format edgelist --input test.edgelist --workers 2 --number-walks 1 --representation-size 2 --walk-length 5 --window-size 100 --output test_output.embeddings"
   ]
  },
  {
   "cell_type": "code",
   "execution_count": 23,
   "metadata": {
    "execution": {
     "iopub.execute_input": "2021-03-02T02:26:57.367239Z",
     "iopub.status.busy": "2021-03-02T02:26:57.354767Z",
     "iopub.status.idle": "2021-03-02T02:36:50.115711Z",
     "shell.execute_reply": "2021-03-02T02:36:50.114246Z"
    },
    "papermill": {
     "duration": 592.820453,
     "end_time": "2021-03-02T02:36:50.115886",
     "exception": false,
     "start_time": "2021-03-02T02:26:57.295433",
     "status": "completed"
    },
    "tags": []
   },
   "outputs": [
    {
     "name": "stdout",
     "output_type": "stream",
     "text": [
      "Number of nodes: 265968\r\n",
      "Number of walks: 1329840\r\n",
      "Data size (walks*length): 6649200\r\n",
      "Walking...\r\n",
      "Training...\r\n"
     ]
    }
   ],
   "source": [
    "# 執行deepwalk: 參數都設小一點不然跑不動\n",
    "!deepwalk --format edgelist --input test.edgelist --workers 24 --number-walks 5 --representation-size 2 --walk-length 5 --window-size 100 --output test_output2.embeddings"
   ]
  },
  {
   "cell_type": "code",
   "execution_count": 24,
   "metadata": {
    "execution": {
     "iopub.execute_input": "2021-03-02T02:36:50.284274Z",
     "iopub.status.busy": "2021-03-02T02:36:50.279159Z",
     "iopub.status.idle": "2021-03-02T02:42:04.002066Z",
     "shell.execute_reply": "2021-03-02T02:42:04.002706Z"
    },
    "papermill": {
     "duration": 313.804126,
     "end_time": "2021-03-02T02:42:04.002893",
     "exception": false,
     "start_time": "2021-03-02T02:36:50.198767",
     "status": "completed"
    },
    "tags": []
   },
   "outputs": [
    {
     "name": "stdout",
     "output_type": "stream",
     "text": [
      "Number of nodes: 265968\r\n",
      "Number of walks: 2659680\r\n",
      "Data size (walks*length): 5319360\r\n",
      "Walking...\r\n",
      "Training...\r\n"
     ]
    }
   ],
   "source": [
    "# 執行deepwalk: 參數都設小一點不然跑不動\n",
    "!deepwalk --format edgelist --input test.edgelist --workers 24 --number-walks 10 --representation-size 2 --walk-length 2 --window-size 100 --output test_output3.embeddings"
   ]
  },
  {
   "cell_type": "code",
   "execution_count": 25,
   "metadata": {
    "execution": {
     "iopub.execute_input": "2021-03-02T02:42:04.154384Z",
     "iopub.status.busy": "2021-03-02T02:42:04.153558Z",
     "iopub.status.idle": "2021-03-02T02:42:04.158961Z",
     "shell.execute_reply": "2021-03-02T02:42:04.158369Z"
    },
    "papermill": {
     "duration": 0.101883,
     "end_time": "2021-03-02T02:42:04.159090",
     "exception": false,
     "start_time": "2021-03-02T02:42:04.057207",
     "status": "completed"
    },
    "tags": []
   },
   "outputs": [],
   "source": [
    "from lightgbm import LGBMClassifier\n",
    "from sklearn.metrics import f1_score\n",
    "\n",
    "def test_submit(embed_file='test_output.embeddings'):\n",
    "    # embedding 結果讀入\n",
    "    f = open(embed_file)\n",
    "    k = f.readlines()\n",
    "    \n",
    "    # 整理 embedding vector\n",
    "    pre_node = [int(x.split(' ')[0]) for x in k[1:]]\n",
    "    x1 = [(float(x.split(' ')[1])) for x in k[1:]]\n",
    "    x2 = [float(x.split(' ')[2].split('\\n')[0]) for x in k[1:]]\n",
    "    g_node_embed = pd.DataFrame({'node':pre_node, 'x1':x1, 'x2':x2})\n",
    "    # bacno 的 embedding\n",
    "    g_node2 = g_node.merge(g_node_embed, how='left', left_on='bacno', right_on='node')\n",
    "    g_node2 = g_node2.rename(columns={'x1':'bacno_x1', 'x2':'bacno_x2'})\n",
    "    # mchno 的 embedding\n",
    "    g_node2 = g_node2.merge(g_node_embed, how='left', left_on='mchno', right_on='node')\n",
    "    g_node2 = g_node2.rename(columns={'x1':'mchno_x1', 'x2':'mchno_x2'})\n",
    "    \n",
    "    g_node2 = g_node2.drop(columns=['node_x', 'node_y']).drop_duplicates()\n",
    "    g_node2['mchno'] = g_node2['mchno']-200000\n",
    "    print(g_node2.shape)\n",
    "    display(g_node2.head(2))\n",
    "    print(g_node2.bacno.nunique()+g_node.mchno.nunique())\n",
    "\n",
    "    train2 = train.merge(g_node2, how='left', on=['bacno','mchno'])\n",
    "    test2 = test.merge(g_node2, how='left', on=['bacno','mchno'])\n",
    "    print(f'train2 資料共 {train2.shape[0]} 筆')\n",
    "    print(f'test2 資料共 {test2.shape[0]} 筆')\n",
    "    print(f'train2 資料欄位：{train2.columns}')\n",
    "\n",
    "    train2 = train2.sort_values(by=['locdt','loctm','bacno']).reset_index(drop=True)\n",
    "\n",
    "    Y2 = train2['fraud_ind']\n",
    "    X2 = train2.iloc[:,(-14):]\n",
    "\n",
    "    # 切出 train/valid\n",
    "    num = int(np.ceil(len(X2)*0.8))\n",
    "    x_train2 = X2.iloc[:num, :]\n",
    "    x_valid2 = X2.iloc[num:, :]\n",
    "    y_train2 = Y2[:num]\n",
    "    y_valid2 = Y2[num:]\n",
    "\n",
    "    # train lgbm\n",
    "    lgbc2 = LGBMClassifier()\n",
    "    lgbc2.fit(x_train2, y_train2)\n",
    "\n",
    "    # 評估\n",
    "    y_valid_pred2  = lgbc2.predict(x_valid2).astype(int)\n",
    "    display(f1_score(y_valid2, y_valid_pred2))\n",
    "\n",
    "    # prediction\n",
    "    y_pred_test2 = lgbc2.predict(test2[X2.columns]).astype(int)\n",
    "    submit_df2 = pd.DataFrame({'txkey':test2.txkey, 'fraud_ind':y_pred_test2})\n",
    "    display(submit_df2.shape)\n",
    "    display(submit_df2.fraud_ind.value_counts())\n",
    "\n",
    "    return submit_df2"
   ]
  },
  {
   "cell_type": "code",
   "execution_count": 26,
   "metadata": {
    "execution": {
     "iopub.execute_input": "2021-03-02T02:42:04.273659Z",
     "iopub.status.busy": "2021-03-02T02:42:04.272617Z",
     "iopub.status.idle": "2021-03-02T02:42:22.356362Z",
     "shell.execute_reply": "2021-03-02T02:42:22.355031Z"
    },
    "papermill": {
     "duration": 18.143371,
     "end_time": "2021-03-02T02:42:22.356523",
     "exception": false,
     "start_time": "2021-03-02T02:42:04.213152",
     "status": "completed"
    },
    "tags": []
   },
   "outputs": [
    {
     "name": "stdout",
     "output_type": "stream",
     "text": [
      "(1021484, 6)\n"
     ]
    },
    {
     "data": {
      "text/html": [
       "<div>\n",
       "<style scoped>\n",
       "    .dataframe tbody tr th:only-of-type {\n",
       "        vertical-align: middle;\n",
       "    }\n",
       "\n",
       "    .dataframe tbody tr th {\n",
       "        vertical-align: top;\n",
       "    }\n",
       "\n",
       "    .dataframe thead th {\n",
       "        text-align: right;\n",
       "    }\n",
       "</style>\n",
       "<table border=\"1\" class=\"dataframe\">\n",
       "  <thead>\n",
       "    <tr style=\"text-align: right;\">\n",
       "      <th></th>\n",
       "      <th>bacno</th>\n",
       "      <th>mchno</th>\n",
       "      <th>bacno_x1</th>\n",
       "      <th>bacno_x2</th>\n",
       "      <th>mchno_x1</th>\n",
       "      <th>mchno_x2</th>\n",
       "    </tr>\n",
       "  </thead>\n",
       "  <tbody>\n",
       "    <tr>\n",
       "      <th>0</th>\n",
       "      <td>113261</td>\n",
       "      <td>59333</td>\n",
       "      <td>1.391831</td>\n",
       "      <td>1.092911</td>\n",
       "      <td>1.082311</td>\n",
       "      <td>1.558644</td>\n",
       "    </tr>\n",
       "    <tr>\n",
       "      <th>1</th>\n",
       "      <td>134508</td>\n",
       "      <td>0</td>\n",
       "      <td>0.464692</td>\n",
       "      <td>0.344654</td>\n",
       "      <td>0.945098</td>\n",
       "      <td>1.494870</td>\n",
       "    </tr>\n",
       "  </tbody>\n",
       "</table>\n",
       "</div>"
      ],
      "text/plain": [
       "    bacno  mchno  bacno_x1  bacno_x2  mchno_x1  mchno_x2\n",
       "0  113261  59333  1.391831  1.092911  1.082311  1.558644\n",
       "1  134508      0  0.464692  0.344654  0.945098  1.494870"
      ]
     },
     "metadata": {},
     "output_type": "display_data"
    },
    {
     "name": "stdout",
     "output_type": "stream",
     "text": [
      "265968\n",
      "train2 資料共 1006717 筆\n",
      "test2 資料共 421665 筆\n",
      "train2 資料欄位：Index(['acqic', 'bacno', 'cano', 'conam', 'contp', 'csmcu', 'ecfg', 'etymd',\n",
      "       'flbmk', 'flg_3dsmk', 'fraud_ind', 'hcefg', 'insfg', 'iterm', 'locdt',\n",
      "       'loctm', 'mcc', 'mchno', 'ovrlt', 'scity', 'stocn', 'stscd', 'txkey',\n",
      "       'hour', 'dt_dif1_chid', 'dt_dif2_cano', 'dt_dif1_cano_mchno',\n",
      "       'pct_of_mchno_fraud_1m', 'avg_mchno_fraud_amt_1m',\n",
      "       'avg_scity_fraud_amt_1w', 'ratio_mchno_notfraud_avg_amt_distance_1m',\n",
      "       'ratio_cumcnt_cano_ecfg_w', 'ratio_cumsum_bacno_d', 'bacno_x1',\n",
      "       'bacno_x2', 'mchno_x1', 'mchno_x2'],\n",
      "      dtype='object')\n"
     ]
    },
    {
     "data": {
      "text/plain": [
       "0.45305164319248825"
      ]
     },
     "metadata": {},
     "output_type": "display_data"
    },
    {
     "data": {
      "text/plain": [
       "(421665, 2)"
      ]
     },
     "metadata": {},
     "output_type": "display_data"
    },
    {
     "data": {
      "text/plain": [
       "0    419583\n",
       "1      2082\n",
       "Name: fraud_ind, dtype: int64"
      ]
     },
     "metadata": {},
     "output_type": "display_data"
    }
   ],
   "source": [
    "test1 = test_submit(embed_file='test_output.embeddings')\n",
    "test1.to_csv('deepwalk_1.csv',index=False)"
   ]
  },
  {
   "cell_type": "code",
   "execution_count": 27,
   "metadata": {
    "execution": {
     "iopub.execute_input": "2021-03-02T02:42:22.480918Z",
     "iopub.status.busy": "2021-03-02T02:42:22.479843Z",
     "iopub.status.idle": "2021-03-02T02:42:43.123445Z",
     "shell.execute_reply": "2021-03-02T02:42:43.122817Z"
    },
    "papermill": {
     "duration": 20.709808,
     "end_time": "2021-03-02T02:42:43.123579",
     "exception": false,
     "start_time": "2021-03-02T02:42:22.413771",
     "status": "completed"
    },
    "tags": []
   },
   "outputs": [
    {
     "name": "stdout",
     "output_type": "stream",
     "text": [
      "(1021484, 6)\n"
     ]
    },
    {
     "data": {
      "text/html": [
       "<div>\n",
       "<style scoped>\n",
       "    .dataframe tbody tr th:only-of-type {\n",
       "        vertical-align: middle;\n",
       "    }\n",
       "\n",
       "    .dataframe tbody tr th {\n",
       "        vertical-align: top;\n",
       "    }\n",
       "\n",
       "    .dataframe thead th {\n",
       "        text-align: right;\n",
       "    }\n",
       "</style>\n",
       "<table border=\"1\" class=\"dataframe\">\n",
       "  <thead>\n",
       "    <tr style=\"text-align: right;\">\n",
       "      <th></th>\n",
       "      <th>bacno</th>\n",
       "      <th>mchno</th>\n",
       "      <th>bacno_x1</th>\n",
       "      <th>bacno_x2</th>\n",
       "      <th>mchno_x1</th>\n",
       "      <th>mchno_x2</th>\n",
       "    </tr>\n",
       "  </thead>\n",
       "  <tbody>\n",
       "    <tr>\n",
       "      <th>0</th>\n",
       "      <td>113261</td>\n",
       "      <td>59333</td>\n",
       "      <td>0.993268</td>\n",
       "      <td>0.773528</td>\n",
       "      <td>0.823405</td>\n",
       "      <td>0.845161</td>\n",
       "    </tr>\n",
       "    <tr>\n",
       "      <th>1</th>\n",
       "      <td>134508</td>\n",
       "      <td>0</td>\n",
       "      <td>0.778620</td>\n",
       "      <td>1.056310</td>\n",
       "      <td>0.773773</td>\n",
       "      <td>0.764064</td>\n",
       "    </tr>\n",
       "  </tbody>\n",
       "</table>\n",
       "</div>"
      ],
      "text/plain": [
       "    bacno  mchno  bacno_x1  bacno_x2  mchno_x1  mchno_x2\n",
       "0  113261  59333  0.993268  0.773528  0.823405  0.845161\n",
       "1  134508      0  0.778620  1.056310  0.773773  0.764064"
      ]
     },
     "metadata": {},
     "output_type": "display_data"
    },
    {
     "name": "stdout",
     "output_type": "stream",
     "text": [
      "265968\n",
      "train2 資料共 1006717 筆\n",
      "test2 資料共 421665 筆\n",
      "train2 資料欄位：Index(['acqic', 'bacno', 'cano', 'conam', 'contp', 'csmcu', 'ecfg', 'etymd',\n",
      "       'flbmk', 'flg_3dsmk', 'fraud_ind', 'hcefg', 'insfg', 'iterm', 'locdt',\n",
      "       'loctm', 'mcc', 'mchno', 'ovrlt', 'scity', 'stocn', 'stscd', 'txkey',\n",
      "       'hour', 'dt_dif1_chid', 'dt_dif2_cano', 'dt_dif1_cano_mchno',\n",
      "       'pct_of_mchno_fraud_1m', 'avg_mchno_fraud_amt_1m',\n",
      "       'avg_scity_fraud_amt_1w', 'ratio_mchno_notfraud_avg_amt_distance_1m',\n",
      "       'ratio_cumcnt_cano_ecfg_w', 'ratio_cumsum_bacno_d', 'bacno_x1',\n",
      "       'bacno_x2', 'mchno_x1', 'mchno_x2'],\n",
      "      dtype='object')\n"
     ]
    },
    {
     "data": {
      "text/plain": [
       "0.4563882063882064"
      ]
     },
     "metadata": {},
     "output_type": "display_data"
    },
    {
     "data": {
      "text/plain": [
       "(421665, 2)"
      ]
     },
     "metadata": {},
     "output_type": "display_data"
    },
    {
     "data": {
      "text/plain": [
       "0    419936\n",
       "1      1729\n",
       "Name: fraud_ind, dtype: int64"
      ]
     },
     "metadata": {},
     "output_type": "display_data"
    }
   ],
   "source": [
    "test2 = test_submit(embed_file='test_output2.embeddings')\n",
    "test2.to_csv('deepwalk_2.csv',index=False)"
   ]
  },
  {
   "cell_type": "code",
   "execution_count": 28,
   "metadata": {
    "execution": {
     "iopub.execute_input": "2021-03-02T02:42:43.280318Z",
     "iopub.status.busy": "2021-03-02T02:42:43.270862Z",
     "iopub.status.idle": "2021-03-02T02:43:01.015371Z",
     "shell.execute_reply": "2021-03-02T02:43:01.014068Z"
    },
    "papermill": {
     "duration": 17.830709,
     "end_time": "2021-03-02T02:43:01.015513",
     "exception": false,
     "start_time": "2021-03-02T02:42:43.184804",
     "status": "completed"
    },
    "tags": []
   },
   "outputs": [
    {
     "name": "stdout",
     "output_type": "stream",
     "text": [
      "(1021484, 6)\n"
     ]
    },
    {
     "data": {
      "text/html": [
       "<div>\n",
       "<style scoped>\n",
       "    .dataframe tbody tr th:only-of-type {\n",
       "        vertical-align: middle;\n",
       "    }\n",
       "\n",
       "    .dataframe tbody tr th {\n",
       "        vertical-align: top;\n",
       "    }\n",
       "\n",
       "    .dataframe thead th {\n",
       "        text-align: right;\n",
       "    }\n",
       "</style>\n",
       "<table border=\"1\" class=\"dataframe\">\n",
       "  <thead>\n",
       "    <tr style=\"text-align: right;\">\n",
       "      <th></th>\n",
       "      <th>bacno</th>\n",
       "      <th>mchno</th>\n",
       "      <th>bacno_x1</th>\n",
       "      <th>bacno_x2</th>\n",
       "      <th>mchno_x1</th>\n",
       "      <th>mchno_x2</th>\n",
       "    </tr>\n",
       "  </thead>\n",
       "  <tbody>\n",
       "    <tr>\n",
       "      <th>0</th>\n",
       "      <td>113261</td>\n",
       "      <td>59333</td>\n",
       "      <td>-0.324066</td>\n",
       "      <td>-0.029748</td>\n",
       "      <td>-1.986924</td>\n",
       "      <td>-1.783653</td>\n",
       "    </tr>\n",
       "    <tr>\n",
       "      <th>1</th>\n",
       "      <td>134508</td>\n",
       "      <td>0</td>\n",
       "      <td>-0.122314</td>\n",
       "      <td>0.118549</td>\n",
       "      <td>-1.813804</td>\n",
       "      <td>-1.672819</td>\n",
       "    </tr>\n",
       "  </tbody>\n",
       "</table>\n",
       "</div>"
      ],
      "text/plain": [
       "    bacno  mchno  bacno_x1  bacno_x2  mchno_x1  mchno_x2\n",
       "0  113261  59333 -0.324066 -0.029748 -1.986924 -1.783653\n",
       "1  134508      0 -0.122314  0.118549 -1.813804 -1.672819"
      ]
     },
     "metadata": {},
     "output_type": "display_data"
    },
    {
     "name": "stdout",
     "output_type": "stream",
     "text": [
      "265968\n",
      "train2 資料共 1006717 筆\n",
      "test2 資料共 421665 筆\n",
      "train2 資料欄位：Index(['acqic', 'bacno', 'cano', 'conam', 'contp', 'csmcu', 'ecfg', 'etymd',\n",
      "       'flbmk', 'flg_3dsmk', 'fraud_ind', 'hcefg', 'insfg', 'iterm', 'locdt',\n",
      "       'loctm', 'mcc', 'mchno', 'ovrlt', 'scity', 'stocn', 'stscd', 'txkey',\n",
      "       'hour', 'dt_dif1_chid', 'dt_dif2_cano', 'dt_dif1_cano_mchno',\n",
      "       'pct_of_mchno_fraud_1m', 'avg_mchno_fraud_amt_1m',\n",
      "       'avg_scity_fraud_amt_1w', 'ratio_mchno_notfraud_avg_amt_distance_1m',\n",
      "       'ratio_cumcnt_cano_ecfg_w', 'ratio_cumsum_bacno_d', 'bacno_x1',\n",
      "       'bacno_x2', 'mchno_x1', 'mchno_x2'],\n",
      "      dtype='object')\n"
     ]
    },
    {
     "data": {
      "text/plain": [
       "0.45172824791418353"
      ]
     },
     "metadata": {},
     "output_type": "display_data"
    },
    {
     "data": {
      "text/plain": [
       "(421665, 2)"
      ]
     },
     "metadata": {},
     "output_type": "display_data"
    },
    {
     "data": {
      "text/plain": [
       "0    420788\n",
       "1       877\n",
       "Name: fraud_ind, dtype: int64"
      ]
     },
     "metadata": {},
     "output_type": "display_data"
    }
   ],
   "source": [
    "test2 = test_submit(embed_file='test_output3.embeddings')\n",
    "test2.to_csv('deepwalk_3.csv',index=False)"
   ]
  },
  {
   "cell_type": "markdown",
   "metadata": {
    "papermill": {
     "duration": 0.064671,
     "end_time": "2021-03-02T02:43:01.145184",
     "exception": false,
     "start_time": "2021-03-02T02:43:01.080513",
     "status": "completed"
    },
    "tags": []
   },
   "source": [
    "## node2vec"
   ]
  },
  {
   "cell_type": "code",
   "execution_count": 29,
   "metadata": {
    "collapsed": true,
    "execution": {
     "iopub.execute_input": "2021-03-02T02:43:01.283463Z",
     "iopub.status.busy": "2021-03-02T02:43:01.281761Z",
     "iopub.status.idle": "2021-03-02T02:43:01.284232Z",
     "shell.execute_reply": "2021-03-02T02:43:01.284769Z"
    },
    "papermill": {
     "duration": 0.074019,
     "end_time": "2021-03-02T02:43:01.284921",
     "exception": false,
     "start_time": "2021-03-02T02:43:01.210902",
     "status": "completed"
    },
    "tags": []
   },
   "outputs": [],
   "source": [
    "# !pip install node2vec"
   ]
  },
  {
   "cell_type": "code",
   "execution_count": 30,
   "metadata": {
    "execution": {
     "iopub.execute_input": "2021-03-02T02:43:01.421027Z",
     "iopub.status.busy": "2021-03-02T02:43:01.419974Z",
     "iopub.status.idle": "2021-03-02T02:43:01.423194Z",
     "shell.execute_reply": "2021-03-02T02:43:01.422618Z"
    },
    "papermill": {
     "duration": 0.073241,
     "end_time": "2021-03-02T02:43:01.423315",
     "exception": false,
     "start_time": "2021-03-02T02:43:01.350074",
     "status": "completed"
    },
    "tags": []
   },
   "outputs": [],
   "source": [
    "# import networkx as nx\n",
    "# from node2vec import Node2Vec\n",
    "\n",
    "# # Create a graph\n",
    "# graph = G\n",
    "\n",
    "# # Precompute probabilities and generate walks - **ON WINDOWS ONLY WORKS WITH workers=1**\n",
    "# node2vec = Node2Vec(graph, dimensions=2, walk_length=2, num_walks=5, workers=1, temp_folder='/')  # Use temp_folder for big graphs\n",
    "\n",
    "# # Embed nodes\n",
    "# model = node2vec.fit(window=10, min_count=1, batch_words=4)  # Any keywords acceptable by gensim.Word2Vec can be passed, `dimensions` and `workers` are automatically passed (from the Node2Vec constructor)\n",
    "\n",
    "# # Look for most similar nodes\n",
    "# model.wv.most_similar('2')  # Output node names are always strings\n",
    "\n",
    "# # Save embeddings for later use\n",
    "# model.wv.save_word2vec_format('EMBEDDING_FILENAME')\n",
    "\n",
    "# # Save model for later use\n",
    "# model.save('EMBEDDING_MODEL_FILENAME')\n",
    "\n",
    "# # Embed edges using Hadamard method\n",
    "# from node2vec.edges import HadamardEmbedder\n",
    "\n",
    "# edges_embs = HadamardEmbedder(keyed_vectors=model.wv)"
   ]
  },
  {
   "cell_type": "markdown",
   "metadata": {
    "papermill": {
     "duration": 0.064937,
     "end_time": "2021-03-02T02:43:01.553321",
     "exception": false,
     "start_time": "2021-03-02T02:43:01.488384",
     "status": "completed"
    },
    "tags": []
   },
   "source": [
    "### CS224W\n",
    "- https://colab.research.google.com/drive/1b9rZIjD7MUEKwYbXZc3dchTBTpzdrvpd?usp=sharing\n",
    "- https://zhangruochi.com/CS224W-Colab-1/2021/01/22/"
   ]
  },
  {
   "cell_type": "code",
   "execution_count": 31,
   "metadata": {
    "execution": {
     "iopub.execute_input": "2021-03-02T02:43:01.688551Z",
     "iopub.status.busy": "2021-03-02T02:43:01.687516Z",
     "iopub.status.idle": "2021-03-02T02:43:01.690250Z",
     "shell.execute_reply": "2021-03-02T02:43:01.690819Z"
    },
    "papermill": {
     "duration": 0.072353,
     "end_time": "2021-03-02T02:43:01.691007",
     "exception": false,
     "start_time": "2021-03-02T02:43:01.618654",
     "status": "completed"
    },
    "tags": []
   },
   "outputs": [],
   "source": [
    "# import torch\n",
    "# print(torch.__version__)"
   ]
  },
  {
   "cell_type": "markdown",
   "metadata": {
    "papermill": {
     "duration": 0.079595,
     "end_time": "2021-03-02T02:43:01.836723",
     "exception": false,
     "start_time": "2021-03-02T02:43:01.757128",
     "status": "completed"
    },
    "tags": []
   },
   "source": [
    "### Question 5: Getting the edge list of the karate club network and transform it into torch.LongTensor. What is the torch.sum value of pos_edge_index tensor? "
   ]
  },
  {
   "cell_type": "code",
   "execution_count": 32,
   "metadata": {
    "execution": {
     "iopub.execute_input": "2021-03-02T02:43:01.973655Z",
     "iopub.status.busy": "2021-03-02T02:43:01.972591Z",
     "iopub.status.idle": "2021-03-02T02:43:01.975661Z",
     "shell.execute_reply": "2021-03-02T02:43:01.975112Z"
    },
    "papermill": {
     "duration": 0.073785,
     "end_time": "2021-03-02T02:43:01.975776",
     "exception": false,
     "start_time": "2021-03-02T02:43:01.901991",
     "status": "completed"
    },
    "tags": []
   },
   "outputs": [],
   "source": [
    "# def graph_to_edge_list(G):\n",
    "#   # TODO: Implement the function that returns the edge list of\n",
    "#   # an nx.Graph. The returned edge_list should be a list of tuples\n",
    "#   # where each tuple is a tuple representing an edge connected \n",
    "#   # by two nodes.\n",
    "\n",
    "#     edge_list = []\n",
    "\n",
    "#   ############# Your code here ############\n",
    "\n",
    "#     edge_list = list(G.edges())\n",
    "#   #########################################\n",
    "\n",
    "#     return edge_list\n",
    "\n",
    "# def edge_list_to_tensor(edge_list):\n",
    "#     # TODO: Implement the function that transforms the edge_list to\n",
    "#     # tensor. The input edge_list is a list of tuples and the resulting\n",
    "#     # tensor should have the shape [2 x len(edge_list)].\n",
    "\n",
    "#     edge_index = torch.tensor([])\n",
    "\n",
    "#     ############# Your code here ############\n",
    "#     edge_index = torch.tensor(edge_list, dtype = torch.long).permute((1,0))\n",
    "\n",
    "#     #########################################\n",
    "\n",
    "#     return edge_index\n",
    "\n",
    "# pos_edge_list = graph_to_edge_list(G)\n",
    "# pos_edge_index = edge_list_to_tensor(pos_edge_list)\n",
    "# print(\"The pos_edge_index tensor has shape {}\".format(pos_edge_index.shape))\n",
    "# print(\"The pos_edge_index tensor has sum value {}\".format(torch.sum(pos_edge_index)))"
   ]
  },
  {
   "cell_type": "markdown",
   "metadata": {
    "papermill": {
     "duration": 0.065908,
     "end_time": "2021-03-02T02:43:02.106849",
     "exception": false,
     "start_time": "2021-03-02T02:43:02.040941",
     "status": "completed"
    },
    "tags": []
   },
   "source": [
    "### Question 6: Please implement following function that samples negative edges. Then you will answer which edges (edge_1 to edge_5) can be negative ones in the karate club network?"
   ]
  },
  {
   "cell_type": "code",
   "execution_count": 33,
   "metadata": {
    "execution": {
     "iopub.execute_input": "2021-03-02T02:43:02.244231Z",
     "iopub.status.busy": "2021-03-02T02:43:02.243145Z",
     "iopub.status.idle": "2021-03-02T02:43:02.245885Z",
     "shell.execute_reply": "2021-03-02T02:43:02.246416Z"
    },
    "papermill": {
     "duration": 0.074251,
     "end_time": "2021-03-02T02:43:02.246586",
     "exception": false,
     "start_time": "2021-03-02T02:43:02.172335",
     "status": "completed"
    },
    "tags": []
   },
   "outputs": [],
   "source": [
    "# import random\n",
    "\n",
    "# def sample_negative_edges(G, num_neg_samples):\n",
    "#     # TODO: Implement the function that returns a list of negative edges.\n",
    "#     # The number of sampled negative edges is num_neg_samples. You do not\n",
    "#     # need to consider the corner case when the number of possible negative edges\n",
    "#     # is less than num_neg_samples. It should be ok as long as your implementation \n",
    "#     # works on the karate club network. In this implementation, self loop should \n",
    "#     # not be considered as either a positive or negative edge. Also, notice that \n",
    "#     # the karate club network is an undirected graph, if (0, 1) is a positive \n",
    "#     # edge, do you think (1, 0) can be a negative one?\n",
    "\n",
    "#     neg_edge_list = []\n",
    "\n",
    "#     pos_set = set(G.edges())\n",
    "#     visited_set = set()\n",
    "\n",
    "#     ############# Your code here ############\n",
    "#     for n_i in G.nodes():\n",
    "#         for n_j in G.nodes():\n",
    "#             if n_i == n_j or (n_i,n_j) in pos_set or (n_j,n_i) in pos_set or (n_i,n_j) in visited_set or (n_j, n_i) is visited_set:\n",
    "#                 continue\n",
    "#             neg_edge_list.append((n_i,n_j))\n",
    "#             visited_set.add((n_i,n_j))\n",
    "#             visited_set.add((n_j,n_i))\n",
    "#             if len(neg_edge_list) == num_neg_samples:\n",
    "#                 break\n",
    "\n",
    "#     #########################################\n",
    "\n",
    "#     return neg_edge_list\n",
    "\n",
    "# # Sample 78 negative edges\n",
    "# neg_edge_list = sample_negative_edges(G, len(pos_edge_list))\n",
    "\n",
    "# # Transform the negative edge list to tensor\n",
    "# neg_edge_index = edge_list_to_tensor(neg_edge_list)\n",
    "# print(\"The neg_edge_index tensor has shape {}\".format(neg_edge_index.shape))\n",
    "\n",
    "# # Which of following edges can be negative ones?\n",
    "# edge_1 = (7, 1)\n",
    "# edge_2 = (1, 33)\n",
    "# edge_3 = (33, 22)\n",
    "# edge_4 = (0, 4)\n",
    "# edge_5 = (4, 2)\n",
    "\n",
    "# ############# Your code here ############\n",
    "# ## Note:\n",
    "# ## 1: For each of the 5 edges, print whether it can be negative edge\n",
    "\n",
    "# #########################################"
   ]
  },
  {
   "cell_type": "markdown",
   "metadata": {
    "papermill": {
     "duration": 0.065004,
     "end_time": "2021-03-02T02:43:02.377501",
     "exception": false,
     "start_time": "2021-03-02T02:43:02.312497",
     "status": "completed"
    },
    "tags": []
   },
   "source": [
    "### 3 Node Emebedding Learning"
   ]
  },
  {
   "cell_type": "code",
   "execution_count": 34,
   "metadata": {
    "execution": {
     "iopub.execute_input": "2021-03-02T02:43:02.516418Z",
     "iopub.status.busy": "2021-03-02T02:43:02.515355Z",
     "iopub.status.idle": "2021-03-02T02:43:02.518600Z",
     "shell.execute_reply": "2021-03-02T02:43:02.518041Z"
    },
    "papermill": {
     "duration": 0.075838,
     "end_time": "2021-03-02T02:43:02.518717",
     "exception": false,
     "start_time": "2021-03-02T02:43:02.442879",
     "status": "completed"
    },
    "tags": []
   },
   "outputs": [],
   "source": [
    "# import torch\n",
    "# import torch.nn as nn\n",
    "# import matplotlib.pyplot as plt\n",
    "# from sklearn.decomposition import PCA\n",
    "\n",
    "# print(torch.__version__)"
   ]
  },
  {
   "cell_type": "code",
   "execution_count": 35,
   "metadata": {
    "execution": {
     "iopub.execute_input": "2021-03-02T02:43:02.654982Z",
     "iopub.status.busy": "2021-03-02T02:43:02.653893Z",
     "iopub.status.idle": "2021-03-02T02:43:02.657040Z",
     "shell.execute_reply": "2021-03-02T02:43:02.656469Z"
    },
    "papermill": {
     "duration": 0.072971,
     "end_time": "2021-03-02T02:43:02.657162",
     "exception": false,
     "start_time": "2021-03-02T02:43:02.584191",
     "status": "completed"
    },
    "tags": []
   },
   "outputs": [],
   "source": [
    "# # Initialize an embedding layer\n",
    "# # Suppose we want to have embedding for 4 items (e.g., nodes)\n",
    "# # Each item is represented with 8 dimensional vector\n",
    "\n",
    "# emb_sample = nn.Embedding(num_embeddings=4, embedding_dim=8)\n",
    "# print('Sample embedding layer: {}'.format(emb_sample))"
   ]
  },
  {
   "cell_type": "code",
   "execution_count": 36,
   "metadata": {
    "execution": {
     "iopub.execute_input": "2021-03-02T02:43:02.794472Z",
     "iopub.status.busy": "2021-03-02T02:43:02.793353Z",
     "iopub.status.idle": "2021-03-02T02:43:02.796767Z",
     "shell.execute_reply": "2021-03-02T02:43:02.796129Z"
    },
    "papermill": {
     "duration": 0.073822,
     "end_time": "2021-03-02T02:43:02.796882",
     "exception": false,
     "start_time": "2021-03-02T02:43:02.723060",
     "status": "completed"
    },
    "tags": []
   },
   "outputs": [],
   "source": [
    "# # Select an embedding in emb_sample\n",
    "# id = torch.LongTensor([1])\n",
    "# print(emb_sample(id))\n",
    "\n",
    "# # Select multiple embeddings\n",
    "# ids = torch.LongTensor([1, 3])\n",
    "# print(emb_sample(ids))\n",
    "\n",
    "# # Get the shape of the embedding weight matrix\n",
    "# shape = emb_sample.weight.data.shape\n",
    "# print(shape)\n",
    "\n",
    "# # Overwrite the weight to tensor with all ones\n",
    "# emb_sample.weight.data = torch.ones(shape)\n",
    "\n",
    "# # Let's check if the emb is indeed initilized\n",
    "# ids = torch.LongTensor([0, 3])\n",
    "# print(emb_sample(ids))"
   ]
  },
  {
   "cell_type": "code",
   "execution_count": 37,
   "metadata": {
    "execution": {
     "iopub.execute_input": "2021-03-02T02:43:02.934563Z",
     "iopub.status.busy": "2021-03-02T02:43:02.933486Z",
     "iopub.status.idle": "2021-03-02T02:43:02.936790Z",
     "shell.execute_reply": "2021-03-02T02:43:02.936240Z"
    },
    "papermill": {
     "duration": 0.074248,
     "end_time": "2021-03-02T02:43:02.936908",
     "exception": false,
     "start_time": "2021-03-02T02:43:02.862660",
     "status": "completed"
    },
    "tags": []
   },
   "outputs": [],
   "source": [
    "# # Please do not change / reset the random seed\n",
    "# torch.manual_seed(1)\n",
    "\n",
    "# def create_node_emb(num_node=34, embedding_dim=16):\n",
    "#   # TODO: Implement this function that will create the node embedding matrix.\n",
    "#   # A torch.nn.Embedding layer will be returned. You do not need to change \n",
    "#   # the values of num_node and embedding_dim. The weight matrix of returned \n",
    "#   # layer should be initialized under uniform distribution. \n",
    "\n",
    "#   emb = None\n",
    "\n",
    "#   ############# Your code here ############\n",
    "#   emb = torch.nn.Embedding(num_embeddings = num_node, embedding_dim = embedding_dim)\n",
    "\n",
    "#   #########################################\n",
    "\n",
    "#   return emb\n",
    "\n",
    "# emb = create_node_emb()\n",
    "# print(emb.weight.data.shape)\n",
    "# ids = torch.LongTensor([0, 3])\n",
    "\n",
    "# # Print the embedding layer\n",
    "# print(\"Embedding: {}\".format(emb))\n",
    "\n",
    "# # An example that gets the embeddings for node 0 and 3\n",
    "# print(emb(ids))"
   ]
  },
  {
   "cell_type": "code",
   "execution_count": 38,
   "metadata": {
    "execution": {
     "iopub.execute_input": "2021-03-02T02:43:03.077498Z",
     "iopub.status.busy": "2021-03-02T02:43:03.076376Z",
     "iopub.status.idle": "2021-03-02T02:43:03.079704Z",
     "shell.execute_reply": "2021-03-02T02:43:03.079144Z"
    },
    "papermill": {
     "duration": 0.076673,
     "end_time": "2021-03-02T02:43:03.079826",
     "exception": false,
     "start_time": "2021-03-02T02:43:03.003153",
     "status": "completed"
    },
    "tags": []
   },
   "outputs": [],
   "source": [
    "# from torch.optim import SGD\n",
    "\n",
    "# def accuracy(pred, label):\n",
    "#   # TODO: Implement the accuracy function. This function takes the \n",
    "#   # pred tensor (the resulting tensor after sigmoid) and the label \n",
    "#   # tensor (torch.LongTensor). Predicted value greater than 0.5 will \n",
    "#   # be classified as label 1. Else it will be classified as label 0.\n",
    "#   # The returned accuracy should be rounded to 4 decimal places. \n",
    "#   # For example, accuracy 0.82956 will be rounded to 0.8296.\n",
    "\n",
    "#   accu = 0.0\n",
    "\n",
    "#   ############# Your code here ############\n",
    "#   pred_label = pred.ge(0.5) \n",
    "#   accu = torch.sum(pred_label == label) / label.shape[0]\n",
    "#   accu = accu.item()\n",
    "\n",
    "#   #########################################\n",
    "\n",
    "#   return round(accu,4)\n",
    "\n",
    "# def train(emb, loss_fn, sigmoid, train_label, train_edge):\n",
    "#   # TODO: Train the embedding layer here. You can also change epochs and \n",
    "#   # learning rate. In general, you need to implement: \n",
    "#   # (1) Get the embeddings of the nodes in train_edge\n",
    "#   # (2) Dot product the embeddings between each node pair\n",
    "#   # (3) Feed the dot product result into sigmoid\n",
    "#   # (4) Feed the sigmoid output into the loss_fn\n",
    "#   # (5) Print both loss and accuracy of each epoch \n",
    "#   # (as a sanity check, the loss should decrease during training)\n",
    "\n",
    "#     ############# Your code here ############\n",
    "#     epochs = 1000\n",
    "#     learning_rate = 0.5\n",
    "\n",
    "#     optimizer = SGD(emb.parameters(), lr=learning_rate, momentum=0.9)\n",
    "\n",
    "#     for i in range(epochs):\n",
    "#       optimizer.zero_grad()  # Clear gradients.\n",
    "\n",
    "#       product = torch.sum(torch.mul(emb(train_edge[0]),emb(train_edge[1])), axis = 1)\n",
    "#       pred = torch.sigmoid(product)\n",
    "#       loss = loss_fn(pred, train_label)\n",
    "#       loss.backward()  # Derive gradients.\n",
    "#       optimizer.step()  # Update parameters based on gradients.\n",
    "\n",
    "    \n",
    "#       with torch.no_grad():\n",
    "#         accu = accuracy(pred, train_label)\n",
    "#         if i % 100 == 0:\n",
    "#           visualize_emb(emb)\n",
    "#         print(\"loss: {}, accuracy: {}\".format(loss.item(), accu))\n",
    "  \n",
    "\n",
    "#     #########################################\n",
    "\n",
    "# loss_fn = nn.BCELoss()\n",
    "# sigmoid = nn.Sigmoid()\n",
    "\n",
    "# # Generate the positive and negative labels\n",
    "# pos_label = torch.ones(pos_edge_index.shape[1], )\n",
    "# neg_label = torch.zeros(neg_edge_index.shape[1], )\n",
    "\n",
    "# # Concat positive and negative labels into one tensor\n",
    "# train_label = torch.cat([pos_label, neg_label], dim=0)\n",
    "\n",
    "# # Concat positive and negative edges into one tensor\n",
    "# # Since the network is very small, we do not split the edges into val/test sets\n",
    "# train_edge = torch.cat([pos_edge_index, neg_edge_index], dim=1)\n",
    "\n",
    "# train(emb, loss_fn, sigmoid, train_label, train_edge)"
   ]
  },
  {
   "cell_type": "markdown",
   "metadata": {
    "papermill": {
     "duration": 0.066081,
     "end_time": "2021-03-02T02:43:03.212703",
     "exception": false,
     "start_time": "2021-03-02T02:43:03.146622",
     "status": "completed"
    },
    "tags": []
   },
   "source": [
    "### DeepWalk\n",
    "- https://github.com/palash1992/GEM"
   ]
  },
  {
   "cell_type": "markdown",
   "metadata": {
    "papermill": {
     "duration": 0.06598,
     "end_time": "2021-03-02T02:43:03.345859",
     "exception": false,
     "start_time": "2021-03-02T02:43:03.279879",
     "status": "completed"
    },
    "tags": []
   },
   "source": [
    "### References [GraphSage]\n",
    "- GitHub\n",
    "https://github.com/FighterLYL/GraphNeuralNetwork/tree/master/chapter7"
   ]
  }
 ],
 "metadata": {
  "kernelspec": {
   "display_name": "Python 3",
   "language": "python",
   "name": "python3"
  },
  "language_info": {
   "codemirror_mode": {
    "name": "ipython",
    "version": 3
   },
   "file_extension": ".py",
   "mimetype": "text/x-python",
   "name": "python",
   "nbconvert_exporter": "python",
   "pygments_lexer": "ipython3",
   "version": "3.7.6"
  },
  "papermill": {
   "duration": 1262.136895,
   "end_time": "2021-03-02T02:43:03.526328",
   "environment_variables": {},
   "exception": null,
   "input_path": "__notebook__.ipynb",
   "output_path": "__notebook__.ipynb",
   "parameters": {},
   "start_time": "2021-03-02T02:22:01.389433",
   "version": "2.1.0"
  }
 },
 "nbformat": 4,
 "nbformat_minor": 4
}
