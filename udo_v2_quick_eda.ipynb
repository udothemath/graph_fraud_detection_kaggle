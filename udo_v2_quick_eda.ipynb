{
 "cells": [
  {
   "cell_type": "code",
   "execution_count": 1,
   "metadata": {},
   "outputs": [
    {
     "name": "stdout",
     "output_type": "stream",
     "text": [
      "/Users/pro/Documents/graph_fraud_detection_kaggle\n"
     ]
    }
   ],
   "source": [
    "%config InlineBackend.print_figure_kwargs={'facecolor': \"w\"}\n",
    "\n",
    "import os\n",
    "import pandas as pd\n",
    "import numpy as np\n",
    "from sklearn.model_selection import train_test_split\n",
    "from sklearn.impute import SimpleImputer\n",
    "import matplotlib.pyplot as plt\n",
    "\n",
    "# imputer = SimpleImputer(missing_values=np.nan, strategy='mean')\n",
    "\n",
    "CURR_PATH = os.getcwd()\n",
    "print(CURR_PATH)"
   ]
  },
  {
   "cell_type": "code",
   "execution_count": 2,
   "metadata": {},
   "outputs": [
    {
     "name": "stderr",
     "output_type": "stream",
     "text": [
      "/Users/pro/opt/anaconda3/lib/python3.7/site-packages/numpy/lib/arraysetops.py:569: FutureWarning: elementwise comparison failed; returning scalar instead, but in the future will perform elementwise comparison\n",
      "  mask |= (ar1 == a)\n"
     ]
    }
   ],
   "source": [
    "data_file = '/data/train_v2.csv'\n",
    "df_train = pd.read_csv(CURR_PATH + data_file, header=0, index_col=0)"
   ]
  },
  {
   "cell_type": "code",
   "execution_count": 3,
   "metadata": {},
   "outputs": [
    {
     "name": "stdout",
     "output_type": "stream",
     "text": [
      "(1006717, 33)\n"
     ]
    }
   ],
   "source": [
    "print(df_train.shape)"
   ]
  },
  {
   "cell_type": "code",
   "execution_count": 4,
   "metadata": {},
   "outputs": [],
   "source": [
    "df_train_demo = df_train[:10]\n",
    "filename_demo = 'train_v2_demo.csv'\n",
    "filename_with_path = f\"{CURR_PATH}/data/{filename_demo}\"\n",
    "\n",
    "df_train_demo.to_csv (filename_with_path,\n",
    "                      index = False, header=True)"
   ]
  },
  {
   "cell_type": "code",
   "execution_count": 5,
   "metadata": {},
   "outputs": [
    {
     "data": {
      "text/html": [
       "<div>\n",
       "<style scoped>\n",
       "    .dataframe tbody tr th:only-of-type {\n",
       "        vertical-align: middle;\n",
       "    }\n",
       "\n",
       "    .dataframe tbody tr th {\n",
       "        vertical-align: top;\n",
       "    }\n",
       "\n",
       "    .dataframe thead th {\n",
       "        text-align: right;\n",
       "    }\n",
       "</style>\n",
       "<table border=\"1\" class=\"dataframe\">\n",
       "  <thead>\n",
       "    <tr style=\"text-align: right;\">\n",
       "      <th></th>\n",
       "      <th>acqic</th>\n",
       "      <th>bacno</th>\n",
       "      <th>cano</th>\n",
       "      <th>conam</th>\n",
       "      <th>contp</th>\n",
       "      <th>csmcu</th>\n",
       "      <th>ecfg</th>\n",
       "      <th>etymd</th>\n",
       "      <th>flbmk</th>\n",
       "      <th>flg_3dsmk</th>\n",
       "      <th>...</th>\n",
       "      <th>hour</th>\n",
       "      <th>dt_dif1_chid</th>\n",
       "      <th>dt_dif2_cano</th>\n",
       "      <th>dt_dif1_cano_mchno</th>\n",
       "      <th>pct_of_mchno_fraud_1m</th>\n",
       "      <th>avg_mchno_fraud_amt_1m</th>\n",
       "      <th>avg_scity_fraud_amt_1w</th>\n",
       "      <th>ratio_mchno_notfraud_avg_amt_distance_1m</th>\n",
       "      <th>ratio_cumcnt_cano_ecfg_w</th>\n",
       "      <th>ratio_cumsum_bacno_d</th>\n",
       "    </tr>\n",
       "  </thead>\n",
       "  <tbody>\n",
       "    <tr>\n",
       "      <th>0</th>\n",
       "      <td>6231</td>\n",
       "      <td>116316</td>\n",
       "      <td>0</td>\n",
       "      <td>618.99</td>\n",
       "      <td>5</td>\n",
       "      <td>62</td>\n",
       "      <td>0</td>\n",
       "      <td>4</td>\n",
       "      <td>N</td>\n",
       "      <td>N</td>\n",
       "      <td>...</td>\n",
       "      <td>15</td>\n",
       "      <td>0.0</td>\n",
       "      <td>0.0</td>\n",
       "      <td>0.0</td>\n",
       "      <td>0.000000</td>\n",
       "      <td>0.000000</td>\n",
       "      <td>9238.495714</td>\n",
       "      <td>-0.478767</td>\n",
       "      <td>0.0</td>\n",
       "      <td>1.526163e+01</td>\n",
       "    </tr>\n",
       "    <tr>\n",
       "      <th>5</th>\n",
       "      <td>6032</td>\n",
       "      <td>116316</td>\n",
       "      <td>0</td>\n",
       "      <td>283.91</td>\n",
       "      <td>5</td>\n",
       "      <td>62</td>\n",
       "      <td>0</td>\n",
       "      <td>4</td>\n",
       "      <td>N</td>\n",
       "      <td>N</td>\n",
       "      <td>...</td>\n",
       "      <td>14</td>\n",
       "      <td>0.0</td>\n",
       "      <td>0.0</td>\n",
       "      <td>0.0</td>\n",
       "      <td>0.000000</td>\n",
       "      <td>0.000000</td>\n",
       "      <td>5778.434286</td>\n",
       "      <td>-0.986162</td>\n",
       "      <td>0.0</td>\n",
       "      <td>2.839100e+07</td>\n",
       "    </tr>\n",
       "    <tr>\n",
       "      <th>6</th>\n",
       "      <td>6032</td>\n",
       "      <td>116316</td>\n",
       "      <td>0</td>\n",
       "      <td>250.19</td>\n",
       "      <td>5</td>\n",
       "      <td>62</td>\n",
       "      <td>0</td>\n",
       "      <td>4</td>\n",
       "      <td>N</td>\n",
       "      <td>N</td>\n",
       "      <td>...</td>\n",
       "      <td>14</td>\n",
       "      <td>0.0</td>\n",
       "      <td>0.0</td>\n",
       "      <td>0.0</td>\n",
       "      <td>0.001718</td>\n",
       "      <td>38.156333</td>\n",
       "      <td>6839.184286</td>\n",
       "      <td>-0.987419</td>\n",
       "      <td>0.0</td>\n",
       "      <td>1.939672e+00</td>\n",
       "    </tr>\n",
       "    <tr>\n",
       "      <th>7</th>\n",
       "      <td>6032</td>\n",
       "      <td>116316</td>\n",
       "      <td>0</td>\n",
       "      <td>428.26</td>\n",
       "      <td>5</td>\n",
       "      <td>62</td>\n",
       "      <td>0</td>\n",
       "      <td>4</td>\n",
       "      <td>N</td>\n",
       "      <td>N</td>\n",
       "      <td>...</td>\n",
       "      <td>13</td>\n",
       "      <td>0.0</td>\n",
       "      <td>0.0</td>\n",
       "      <td>0.0</td>\n",
       "      <td>0.000000</td>\n",
       "      <td>0.000000</td>\n",
       "      <td>5832.098571</td>\n",
       "      <td>-0.980959</td>\n",
       "      <td>0.0</td>\n",
       "      <td>4.282600e+07</td>\n",
       "    </tr>\n",
       "    <tr>\n",
       "      <th>8</th>\n",
       "      <td>6032</td>\n",
       "      <td>116316</td>\n",
       "      <td>0</td>\n",
       "      <td>555.43</td>\n",
       "      <td>5</td>\n",
       "      <td>62</td>\n",
       "      <td>0</td>\n",
       "      <td>4</td>\n",
       "      <td>N</td>\n",
       "      <td>N</td>\n",
       "      <td>...</td>\n",
       "      <td>15</td>\n",
       "      <td>0.0</td>\n",
       "      <td>0.0</td>\n",
       "      <td>0.0</td>\n",
       "      <td>0.000000</td>\n",
       "      <td>0.000000</td>\n",
       "      <td>2386.308571</td>\n",
       "      <td>11.079640</td>\n",
       "      <td>0.0</td>\n",
       "      <td>5.554300e+07</td>\n",
       "    </tr>\n",
       "  </tbody>\n",
       "</table>\n",
       "<p>5 rows × 33 columns</p>\n",
       "</div>"
      ],
      "text/plain": [
       "   acqic   bacno  cano   conam  contp  csmcu  ecfg  etymd flbmk flg_3dsmk  \\\n",
       "0   6231  116316     0  618.99      5     62     0      4     N         N   \n",
       "5   6032  116316     0  283.91      5     62     0      4     N         N   \n",
       "6   6032  116316     0  250.19      5     62     0      4     N         N   \n",
       "7   6032  116316     0  428.26      5     62     0      4     N         N   \n",
       "8   6032  116316     0  555.43      5     62     0      4     N         N   \n",
       "\n",
       "   ...  hour  dt_dif1_chid dt_dif2_cano  dt_dif1_cano_mchno  \\\n",
       "0  ...    15           0.0          0.0                 0.0   \n",
       "5  ...    14           0.0          0.0                 0.0   \n",
       "6  ...    14           0.0          0.0                 0.0   \n",
       "7  ...    13           0.0          0.0                 0.0   \n",
       "8  ...    15           0.0          0.0                 0.0   \n",
       "\n",
       "   pct_of_mchno_fraud_1m  avg_mchno_fraud_amt_1m  avg_scity_fraud_amt_1w  \\\n",
       "0               0.000000                0.000000             9238.495714   \n",
       "5               0.000000                0.000000             5778.434286   \n",
       "6               0.001718               38.156333             6839.184286   \n",
       "7               0.000000                0.000000             5832.098571   \n",
       "8               0.000000                0.000000             2386.308571   \n",
       "\n",
       "   ratio_mchno_notfraud_avg_amt_distance_1m ratio_cumcnt_cano_ecfg_w  \\\n",
       "0                                 -0.478767                      0.0   \n",
       "5                                 -0.986162                      0.0   \n",
       "6                                 -0.987419                      0.0   \n",
       "7                                 -0.980959                      0.0   \n",
       "8                                 11.079640                      0.0   \n",
       "\n",
       "   ratio_cumsum_bacno_d  \n",
       "0          1.526163e+01  \n",
       "5          2.839100e+07  \n",
       "6          1.939672e+00  \n",
       "7          4.282600e+07  \n",
       "8          5.554300e+07  \n",
       "\n",
       "[5 rows x 33 columns]"
      ]
     },
     "metadata": {},
     "output_type": "display_data"
    }
   ],
   "source": [
    "display(df_train_demo.head())"
   ]
  },
  {
   "cell_type": "code",
   "execution_count": 48,
   "metadata": {},
   "outputs": [
    {
     "data": {
      "text/plain": [
       "acqic                                          5162\n",
       "bacno                                         89771\n",
       "cano                                         117201\n",
       "conam                                         55897\n",
       "contp                                             7\n",
       "csmcu                                            66\n",
       "ecfg                                              2\n",
       "etymd                                            11\n",
       "flbmk                                             2\n",
       "flg_3dsmk                                         2\n",
       "fraud_ind                                         2\n",
       "hcefg                                             9\n",
       "insfg                                             2\n",
       "iterm                                             9\n",
       "locdt                                            60\n",
       "loctm                                         82692\n",
       "mcc                                             420\n",
       "mchno                                         73096\n",
       "ovrlt                                             2\n",
       "scity                                          4736\n",
       "stocn                                            91\n",
       "stscd                                             5\n",
       "txkey                                       1006717\n",
       "hour                                             24\n",
       "dt_dif1_chid                                  46185\n",
       "dt_dif2_cano                                  33410\n",
       "dt_dif1_cano_mchno                            19602\n",
       "pct_of_mchno_fraud_1m                          3693\n",
       "avg_mchno_fraud_amt_1m                         3420\n",
       "avg_scity_fraud_amt_1w                         1553\n",
       "ratio_mchno_notfraud_avg_amt_distance_1m     733682\n",
       "ratio_cumcnt_cano_ecfg_w                       4945\n",
       "ratio_cumsum_bacno_d                         682974\n",
       "dtype: int64"
      ]
     },
     "execution_count": 48,
     "metadata": {},
     "output_type": "execute_result"
    }
   ],
   "source": [
    "# cat_col = ['bacno', ]\n",
    "df_train.nunique()"
   ]
  },
  {
   "cell_type": "code",
   "execution_count": 28,
   "metadata": {},
   "outputs": [],
   "source": [
    "picked_cols = \\\n",
    "['hour', 'dt_dif1_chid', \n",
    " 'dt_dif2_cano', 'dt_dif1_cano_mchno', \n",
    " 'pct_of_mchno_fraud_1m', 'avg_mchno_fraud_amt_1m',\n",
    " 'avg_scity_fraud_amt_1w', 'ratio_mchno_notfraud_avg_amt_distance_1m',\n",
    " 'ratio_cumcnt_cano_ecfg_w', 'ratio_cumsum_bacno_d']\n",
    " \n",
    "# picked_cols = \\\n",
    "# ['dt_dif2_cano', 'dt_dif1_cano_mchno', \n",
    "# ]"
   ]
  },
  {
   "cell_type": "code",
   "execution_count": 43,
   "metadata": {},
   "outputs": [],
   "source": [
    "def show_hist(df, selected_cols):\n",
    "    for curr_col in selected_cols:\n",
    "        print(curr_col)\n",
    "        plt.figure()\n",
    "        plt.hist(df[curr_col], bins = 20, \n",
    "                  stacked=True, density=True, align='mid')\n",
    "#         df[curr_col].plot.hist(bins = 10, align='mid')\n",
    "        plt.tight_layout()\n",
    "        plt.grid(True)\n",
    "        plt.show()"
   ]
  },
  {
   "cell_type": "code",
   "execution_count": 44,
   "metadata": {},
   "outputs": [
    {
     "name": "stdout",
     "output_type": "stream",
     "text": [
      "hour\n"
     ]
    },
    {
     "data": {
      "image/png": "[encoded data removed]",
      "text/plain": [
       "<Figure size 432x288 with 1 Axes>"
      ]
     },
     "metadata": {
      "needs_background": "light"
     },
     "output_type": "display_data"
    },
    {
     "name": "stdout",
     "output_type": "stream",
     "text": [
      "dt_dif1_chid\n"
     ]
    },
    {
     "data": {
      "image/png": "[encoded data removed]",
      "text/plain": [
       "<Figure size 432x288 with 1 Axes>"
      ]
     },
     "metadata": {
      "needs_background": "light"
     },
     "output_type": "display_data"
    },
    {
     "name": "stdout",
     "output_type": "stream",
     "text": [
      "dt_dif2_cano\n"
     ]
    },
    {
     "data": {
      "image/png": "[encoded data removed]",
      "text/plain": [
       "<Figure size 432x288 with 1 Axes>"
      ]
     },
     "metadata": {
      "needs_background": "light"
     },
     "output_type": "display_data"
    },
    {
     "name": "stdout",
     "output_type": "stream",
     "text": [
      "dt_dif1_cano_mchno\n"
     ]
    },
    {
     "data": {
      "image/png": "[encoded data removed]",
      "text/plain": [
       "<Figure size 432x288 with 1 Axes>"
      ]
     },
     "metadata": {
      "needs_background": "light"
     },
     "output_type": "display_data"
    },
    {
     "name": "stdout",
     "output_type": "stream",
     "text": [
      "pct_of_mchno_fraud_1m\n"
     ]
    },
    {
     "data": {
      "image/png": "[encoded data removed]",
      "text/plain": [
       "<Figure size 432x288 with 1 Axes>"
      ]
     },
     "metadata": {
      "needs_background": "light"
     },
     "output_type": "display_data"
    },
    {
     "name": "stdout",
     "output_type": "stream",
     "text": [
      "avg_mchno_fraud_amt_1m\n"
     ]
    },
    {
     "data": {
      "image/png": "[encoded data removed]",
      "text/plain": [
       "<Figure size 432x288 with 1 Axes>"
      ]
     },
     "metadata": {
      "needs_background": "light"
     },
     "output_type": "display_data"
    },
    {
     "name": "stdout",
     "output_type": "stream",
     "text": [
      "avg_scity_fraud_amt_1w\n"
     ]
    },
    {
     "data": {
      "image/png": "[encoded data removed]",
      "text/plain": [
       "<Figure size 432x288 with 1 Axes>"
      ]
     },
     "metadata": {
      "needs_background": "light"
     },
     "output_type": "display_data"
    },
    {
     "name": "stdout",
     "output_type": "stream",
     "text": [
      "ratio_mchno_notfraud_avg_amt_distance_1m\n"
     ]
    },
    {
     "data": {
      "image/png": "[encoded data removed]",
      "text/plain": [
       "<Figure size 432x288 with 1 Axes>"
      ]
     },
     "metadata": {
      "needs_background": "light"
     },
     "output_type": "display_data"
    },
    {
     "name": "stdout",
     "output_type": "stream",
     "text": [
      "ratio_cumcnt_cano_ecfg_w\n"
     ]
    },
    {
     "data": {
      "image/png": "[encoded data removed]",
      "text/plain": [
       "<Figure size 432x288 with 1 Axes>"
      ]
     },
     "metadata": {
      "needs_background": "light"
     },
     "output_type": "display_data"
    },
    {
     "name": "stdout",
     "output_type": "stream",
     "text": [
      "ratio_cumsum_bacno_d\n"
     ]
    },
    {
     "data": {
      "image/png": "[encoded data removed]",
      "text/plain": [
       "<Figure size 432x288 with 1 Axes>"
      ]
     },
     "metadata": {
      "needs_background": "light"
     },
     "output_type": "display_data"
    }
   ],
   "source": [
    "show_hist(df_train, picked_cols)"
   ]
  },
  {
   "cell_type": "code",
   "execution_count": 45,
   "metadata": {},
   "outputs": [
    {
     "name": "stdout",
     "output_type": "stream",
     "text": [
      "<class 'pandas.core.frame.DataFrame'>\n",
      "Int64Index: 10 entries, 0 to 19\n",
      "Data columns (total 33 columns):\n",
      " #   Column                                    Non-Null Count  Dtype  \n",
      "---  ------                                    --------------  -----  \n",
      " 0   acqic                                     10 non-null     int64  \n",
      " 1   bacno                                     10 non-null     int64  \n",
      " 2   cano                                      10 non-null     int64  \n",
      " 3   conam                                     10 non-null     float64\n",
      " 4   contp                                     10 non-null     int64  \n",
      " 5   csmcu                                     10 non-null     int64  \n",
      " 6   ecfg                                      10 non-null     int64  \n",
      " 7   etymd                                     10 non-null     int64  \n",
      " 8   flbmk                                     10 non-null     object \n",
      " 9   flg_3dsmk                                 10 non-null     object \n",
      " 10  fraud_ind                                 10 non-null     float64\n",
      " 11  hcefg                                     10 non-null     int64  \n",
      " 12  insfg                                     10 non-null     object \n",
      " 13  iterm                                     10 non-null     int64  \n",
      " 14  locdt                                     10 non-null     int64  \n",
      " 15  loctm                                     10 non-null     float64\n",
      " 16  mcc                                       10 non-null     int64  \n",
      " 17  mchno                                     10 non-null     int64  \n",
      " 18  ovrlt                                     10 non-null     object \n",
      " 19  scity                                     10 non-null     int64  \n",
      " 20  stocn                                     10 non-null     int64  \n",
      " 21  stscd                                     10 non-null     int64  \n",
      " 22  txkey                                     10 non-null     int64  \n",
      " 23  hour                                      10 non-null     int64  \n",
      " 24  dt_dif1_chid                              10 non-null     float64\n",
      " 25  dt_dif2_cano                              10 non-null     float64\n",
      " 26  dt_dif1_cano_mchno                        10 non-null     float64\n",
      " 27  pct_of_mchno_fraud_1m                     10 non-null     float64\n",
      " 28  avg_mchno_fraud_amt_1m                    10 non-null     float64\n",
      " 29  avg_scity_fraud_amt_1w                    10 non-null     float64\n",
      " 30  ratio_mchno_notfraud_avg_amt_distance_1m  10 non-null     float64\n",
      " 31  ratio_cumcnt_cano_ecfg_w                  10 non-null     float64\n",
      " 32  ratio_cumsum_bacno_d                      10 non-null     float64\n",
      "dtypes: float64(12), int64(17), object(4)\n",
      "memory usage: 2.7+ KB\n"
     ]
    }
   ],
   "source": [
    "df_train_demo.info()"
   ]
  },
  {
   "cell_type": "code",
   "execution_count": 46,
   "metadata": {},
   "outputs": [
    {
     "data": {
      "text/html": [
       "<div>\n",
       "<style scoped>\n",
       "    .dataframe tbody tr th:only-of-type {\n",
       "        vertical-align: middle;\n",
       "    }\n",
       "\n",
       "    .dataframe tbody tr th {\n",
       "        vertical-align: top;\n",
       "    }\n",
       "\n",
       "    .dataframe thead th {\n",
       "        text-align: right;\n",
       "    }\n",
       "</style>\n",
       "<table border=\"1\" class=\"dataframe\">\n",
       "  <thead>\n",
       "    <tr style=\"text-align: right;\">\n",
       "      <th></th>\n",
       "      <th>hour</th>\n",
       "      <th>dt_dif1_chid</th>\n",
       "      <th>dt_dif2_cano</th>\n",
       "      <th>dt_dif1_cano_mchno</th>\n",
       "      <th>pct_of_mchno_fraud_1m</th>\n",
       "      <th>avg_mchno_fraud_amt_1m</th>\n",
       "      <th>avg_scity_fraud_amt_1w</th>\n",
       "      <th>ratio_mchno_notfraud_avg_amt_distance_1m</th>\n",
       "      <th>ratio_cumcnt_cano_ecfg_w</th>\n",
       "      <th>ratio_cumsum_bacno_d</th>\n",
       "    </tr>\n",
       "  </thead>\n",
       "  <tbody>\n",
       "    <tr>\n",
       "      <th>count</th>\n",
       "      <td>1.006717e+06</td>\n",
       "      <td>1.006717e+06</td>\n",
       "      <td>1.006717e+06</td>\n",
       "      <td>1.006717e+06</td>\n",
       "      <td>1.006717e+06</td>\n",
       "      <td>1.006717e+06</td>\n",
       "      <td>1.006717e+06</td>\n",
       "      <td>1.006717e+06</td>\n",
       "      <td>1.006717e+06</td>\n",
       "      <td>1.006717e+06</td>\n",
       "    </tr>\n",
       "    <tr>\n",
       "      <th>mean</th>\n",
       "      <td>1.433051e+01</td>\n",
       "      <td>2.595823e+03</td>\n",
       "      <td>1.144425e+03</td>\n",
       "      <td>4.831213e+02</td>\n",
       "      <td>1.265799e-02</td>\n",
       "      <td>1.190764e+03</td>\n",
       "      <td>5.119724e+03</td>\n",
       "      <td>5.790267e+06</td>\n",
       "      <td>1.057681e+04</td>\n",
       "      <td>1.730814e+07</td>\n",
       "    </tr>\n",
       "    <tr>\n",
       "      <th>std</th>\n",
       "      <td>5.205202e+00</td>\n",
       "      <td>8.375091e+03</td>\n",
       "      <td>6.074580e+03</td>\n",
       "      <td>3.881298e+03</td>\n",
       "      <td>6.832390e-02</td>\n",
       "      <td>4.969185e+03</td>\n",
       "      <td>8.368379e+03</td>\n",
       "      <td>2.582179e+07</td>\n",
       "      <td>9.287047e+04</td>\n",
       "      <td>3.919981e+07</td>\n",
       "    </tr>\n",
       "    <tr>\n",
       "      <th>min</th>\n",
       "      <td>0.000000e+00</td>\n",
       "      <td>0.000000e+00</td>\n",
       "      <td>0.000000e+00</td>\n",
       "      <td>0.000000e+00</td>\n",
       "      <td>0.000000e+00</td>\n",
       "      <td>0.000000e+00</td>\n",
       "      <td>0.000000e+00</td>\n",
       "      <td>-1.000000e+00</td>\n",
       "      <td>0.000000e+00</td>\n",
       "      <td>0.000000e+00</td>\n",
       "    </tr>\n",
       "    <tr>\n",
       "      <th>25%</th>\n",
       "      <td>1.100000e+01</td>\n",
       "      <td>0.000000e+00</td>\n",
       "      <td>0.000000e+00</td>\n",
       "      <td>0.000000e+00</td>\n",
       "      <td>0.000000e+00</td>\n",
       "      <td>0.000000e+00</td>\n",
       "      <td>0.000000e+00</td>\n",
       "      <td>-9.808583e-01</td>\n",
       "      <td>0.000000e+00</td>\n",
       "      <td>1.279215e+00</td>\n",
       "    </tr>\n",
       "    <tr>\n",
       "      <th>50%</th>\n",
       "      <td>1.500000e+01</td>\n",
       "      <td>0.000000e+00</td>\n",
       "      <td>0.000000e+00</td>\n",
       "      <td>0.000000e+00</td>\n",
       "      <td>0.000000e+00</td>\n",
       "      <td>0.000000e+00</td>\n",
       "      <td>3.457453e+03</td>\n",
       "      <td>-8.005353e-01</td>\n",
       "      <td>0.000000e+00</td>\n",
       "      <td>3.399804e+00</td>\n",
       "    </tr>\n",
       "    <tr>\n",
       "      <th>75%</th>\n",
       "      <td>1.800000e+01</td>\n",
       "      <td>2.500000e+01</td>\n",
       "      <td>0.000000e+00</td>\n",
       "      <td>0.000000e+00</td>\n",
       "      <td>6.168270e-05</td>\n",
       "      <td>0.000000e+00</td>\n",
       "      <td>6.268214e+03</td>\n",
       "      <td>9.976221e-01</td>\n",
       "      <td>9.230741e-01</td>\n",
       "      <td>1.657059e+01</td>\n",
       "    </tr>\n",
       "    <tr>\n",
       "      <th>max</th>\n",
       "      <td>2.300000e+01</td>\n",
       "      <td>8.631200e+04</td>\n",
       "      <td>8.631100e+04</td>\n",
       "      <td>8.631200e+04</td>\n",
       "      <td>1.000000e+00</td>\n",
       "      <td>3.610070e+04</td>\n",
       "      <td>7.498529e+04</td>\n",
       "      <td>5.833700e+08</td>\n",
       "      <td>7.700000e+06</td>\n",
       "      <td>1.320937e+09</td>\n",
       "    </tr>\n",
       "  </tbody>\n",
       "</table>\n",
       "</div>"
      ],
      "text/plain": [
       "               hour  dt_dif1_chid  dt_dif2_cano  dt_dif1_cano_mchno  \\\n",
       "count  1.006717e+06  1.006717e+06  1.006717e+06        1.006717e+06   \n",
       "mean   1.433051e+01  2.595823e+03  1.144425e+03        4.831213e+02   \n",
       "std    5.205202e+00  8.375091e+03  6.074580e+03        3.881298e+03   \n",
       "min    0.000000e+00  0.000000e+00  0.000000e+00        0.000000e+00   \n",
       "25%    1.100000e+01  0.000000e+00  0.000000e+00        0.000000e+00   \n",
       "50%    1.500000e+01  0.000000e+00  0.000000e+00        0.000000e+00   \n",
       "75%    1.800000e+01  2.500000e+01  0.000000e+00        0.000000e+00   \n",
       "max    2.300000e+01  8.631200e+04  8.631100e+04        8.631200e+04   \n",
       "\n",
       "       pct_of_mchno_fraud_1m  avg_mchno_fraud_amt_1m  avg_scity_fraud_amt_1w  \\\n",
       "count           1.006717e+06            1.006717e+06            1.006717e+06   \n",
       "mean            1.265799e-02            1.190764e+03            5.119724e+03   \n",
       "std             6.832390e-02            4.969185e+03            8.368379e+03   \n",
       "min             0.000000e+00            0.000000e+00            0.000000e+00   \n",
       "25%             0.000000e+00            0.000000e+00            0.000000e+00   \n",
       "50%             0.000000e+00            0.000000e+00            3.457453e+03   \n",
       "75%             6.168270e-05            0.000000e+00            6.268214e+03   \n",
       "max             1.000000e+00            3.610070e+04            7.498529e+04   \n",
       "\n",
       "       ratio_mchno_notfraud_avg_amt_distance_1m  ratio_cumcnt_cano_ecfg_w  \\\n",
       "count                              1.006717e+06              1.006717e+06   \n",
       "mean                               5.790267e+06              1.057681e+04   \n",
       "std                                2.582179e+07              9.287047e+04   \n",
       "min                               -1.000000e+00              0.000000e+00   \n",
       "25%                               -9.808583e-01              0.000000e+00   \n",
       "50%                               -8.005353e-01              0.000000e+00   \n",
       "75%                                9.976221e-01              9.230741e-01   \n",
       "max                                5.833700e+08              7.700000e+06   \n",
       "\n",
       "       ratio_cumsum_bacno_d  \n",
       "count          1.006717e+06  \n",
       "mean           1.730814e+07  \n",
       "std            3.919981e+07  \n",
       "min            0.000000e+00  \n",
       "25%            1.279215e+00  \n",
       "50%            3.399804e+00  \n",
       "75%            1.657059e+01  \n",
       "max            1.320937e+09  "
      ]
     },
     "execution_count": 46,
     "metadata": {},
     "output_type": "execute_result"
    }
   ],
   "source": [
    "df_train[picked_cols].describe()"
   ]
  },
  {
   "cell_type": "code",
   "execution_count": null,
   "metadata": {},
   "outputs": [],
   "source": [
    "data_file = '/data/test_v2.csv'\n",
    "df_test = pd.read_csv(CURR_PATH + data_file, header=0, index_col=0)"
   ]
  },
  {
   "cell_type": "markdown",
   "metadata": {},
   "source": [
    "### Create embedding"
   ]
  },
  {
   "cell_type": "code",
   "execution_count": 49,
   "metadata": {},
   "outputs": [],
   "source": [
    "import pandas as pd\n",
    "import keras\n",
    "from keras import models\n",
    "from keras.layers import Embedding, Dense, Flatten\n",
    "import os\n",
    "import numpy as np\n",
    "import matplotlib.pyplot as plt\n",
    "from mpl_toolkits.mplot3d import Axes3D\n",
    "import sklearn\n",
    "from sklearn.preprocessing import MinMaxScaler\n",
    "%matplotlib inline "
   ]
  },
  {
   "cell_type": "code",
   "execution_count": null,
   "metadata": {},
   "outputs": [],
   "source": [
    "scaler = MinMaxScaler()\n",
    "data_small_df['cnt_Scaled'] = scaler.fit_transform(data_small_df[['cnt']])\n",
    "data_small_df.head()"
   ]
  },
  {
   "cell_type": "code",
   "execution_count": null,
   "metadata": {},
   "outputs": [],
   "source": []
  },
  {
   "cell_type": "code",
   "execution_count": null,
   "metadata": {},
   "outputs": [],
   "source": []
  },
  {
   "cell_type": "code",
   "execution_count": null,
   "metadata": {},
   "outputs": [],
   "source": [
    "print(df_train.shape)\n",
    "print(df_test.shape)"
   ]
  },
  {
   "cell_type": "code",
   "execution_count": null,
   "metadata": {},
   "outputs": [],
   "source": [
    "essential_info_cols = ['txkey', 'fraud_ind']\n",
    "desired_factors_cols = \\\n",
    "['hour', 'dt_dif1_chid', 'dt_dif2_cano', 'dt_dif1_cano_mchno',\n",
    " 'pct_of_mchno_fraud_1m', 'avg_mchno_fraud_amt_1m',\n",
    " 'avg_scity_fraud_amt_1w', 'ratio_mchno_notfraud_avg_amt_distance_1m',\n",
    " 'ratio_cumcnt_cano_ecfg_w', 'ratio_cumsum_bacno_d']\n",
    "\n",
    "basic_info = essential_info_cols + desired_factors_cols "
   ]
  },
  {
   "cell_type": "code",
   "execution_count": null,
   "metadata": {},
   "outputs": [],
   "source": [
    "df_train = df_train[basic_info]"
   ]
  },
  {
   "cell_type": "code",
   "execution_count": null,
   "metadata": {},
   "outputs": [],
   "source": [
    "df_train.describe()\n"
   ]
  },
  {
   "cell_type": "code",
   "execution_count": null,
   "metadata": {},
   "outputs": [],
   "source": [
    "df_train.info()\n"
   ]
  },
  {
   "cell_type": "code",
   "execution_count": null,
   "metadata": {},
   "outputs": [],
   "source": [
    "df_train['txkey'] = df_train.txkey.astype('object')"
   ]
  },
  {
   "cell_type": "code",
   "execution_count": null,
   "metadata": {},
   "outputs": [],
   "source": [
    "df_train.info()"
   ]
  },
  {
   "cell_type": "code",
   "execution_count": null,
   "metadata": {},
   "outputs": [],
   "source": [
    "y = df_train.fraud_ind\n",
    "y = y.astype(np.int64)\n",
    "X = df_train.drop(['fraud_ind'], axis = 1).select_dtypes(exclude=['object'])"
   ]
  },
  {
   "cell_type": "code",
   "execution_count": null,
   "metadata": {},
   "outputs": [],
   "source": [
    "from sklearn.model_selection import train_test_split\n",
    "train_X, test_X, train_y, test_y = train_test_split(X.values, \n",
    "                                                    y.to_numpy(), \n",
    "                                                    test_size=0.25,\n",
    "                                                    random_state = 123)"
   ]
  },
  {
   "cell_type": "code",
   "execution_count": null,
   "metadata": {},
   "outputs": [],
   "source": [
    "imputer = SimpleImputer(missing_values=np.nan, strategy='mean')\n",
    "train_X = imputer.fit_transform(train_X)\n",
    "test_X = imputer.transform(test_X)"
   ]
  },
  {
   "cell_type": "code",
   "execution_count": null,
   "metadata": {},
   "outputs": [],
   "source": [
    "from xgboost import XGBClassifier\n",
    "\n",
    "my_quick_model = XGBClassifier()\n",
    "# Add silent=True to avoid printing out updates with each cycle\n",
    "my_quick_model.fit(train_X, train_y, verbose=False)"
   ]
  },
  {
   "cell_type": "code",
   "execution_count": null,
   "metadata": {},
   "outputs": [],
   "source": [
    "pred_y = my_quick_model.predict(test_X)\n",
    "predictions = [round(value) for value in pred_y]"
   ]
  },
  {
   "cell_type": "code",
   "execution_count": null,
   "metadata": {},
   "outputs": [],
   "source": [
    "from sklearn.metrics import accuracy_score\n",
    "\n",
    "# evaluate predictions\n",
    "accuracy = accuracy_score(test_y, predictions)\n",
    "print(f\"Accuracy: {accuracy * 100.0:.2f}%\")"
   ]
  },
  {
   "cell_type": "code",
   "execution_count": null,
   "metadata": {},
   "outputs": [],
   "source": [
    "{i:predictions.count(i) for i in np.unique(predictions)}"
   ]
  },
  {
   "cell_type": "markdown",
   "metadata": {},
   "source": [
    "### Test data prediction submission"
   ]
  },
  {
   "cell_type": "code",
   "execution_count": null,
   "metadata": {},
   "outputs": [],
   "source": [
    "test_data_for_sub = df_test[desired_factors_cols].values"
   ]
  },
  {
   "cell_type": "code",
   "execution_count": null,
   "metadata": {},
   "outputs": [],
   "source": [
    "pred_y_sub = my_quick_model.predict(test_data_for_sub)"
   ]
  },
  {
   "cell_type": "code",
   "execution_count": null,
   "metadata": {},
   "outputs": [],
   "source": [
    "unique, counts = np.unique(pred_y_sub, return_counts=True)\n",
    "dict(zip(unique, counts))"
   ]
  },
  {
   "cell_type": "code",
   "execution_count": null,
   "metadata": {},
   "outputs": [],
   "source": [
    "df_id_y_sub = pd.DataFrame({\n",
    "        \"TXKEY\": df_test['txkey'],\n",
    "        \"FRAUD_IND\": pred_y_sub\n",
    "        })"
   ]
  },
  {
   "cell_type": "code",
   "execution_count": null,
   "metadata": {},
   "outputs": [],
   "source": [
    "print (df_id_y_sub['FRAUD_IND'].value_counts())"
   ]
  },
  {
   "cell_type": "code",
   "execution_count": null,
   "metadata": {},
   "outputs": [],
   "source": [
    "df_id_y_sub.to_csv('submission.csv',index=False)"
   ]
  },
  {
   "cell_type": "code",
   "execution_count": null,
   "metadata": {},
   "outputs": [],
   "source": [
    "ready_for_submission = False"
   ]
  },
  {
   "cell_type": "code",
   "execution_count": null,
   "metadata": {},
   "outputs": [],
   "source": [
    "### Submit your result\n",
    "if ready_for_submission:\n",
    "    Message = \"default message\"\n",
    "    !kaggle competitions submit -c 2021-graph-vs-time-series -f submission.csv -m '$Message'\n",
    "    print (\"You just submitted your prediction.\")\n",
    "else:\n",
    "    print (\"Not yet.\")"
   ]
  },
  {
   "cell_type": "code",
   "execution_count": null,
   "metadata": {},
   "outputs": [],
   "source": [
    "df_train['fraud_ind'].value_counts()"
   ]
  },
  {
   "cell_type": "code",
   "execution_count": null,
   "metadata": {},
   "outputs": [],
   "source": [
    "# df_train.filter(df_train['fraud_ind'] <= 0.5).describe()"
   ]
  },
  {
   "cell_type": "markdown",
   "metadata": {},
   "source": [
    "### Archive"
   ]
  },
  {
   "cell_type": "code",
   "execution_count": null,
   "metadata": {},
   "outputs": [],
   "source": [
    "# check_value_cnt = ['mcc', 'mchno', 'fraud_ind']\n",
    "# for x in check_value_cnt:\n",
    "#     print(f'Showing column {x}...')\n",
    "#     display(df_train[x].value_counts())\n"
   ]
  },
  {
   "cell_type": "code",
   "execution_count": null,
   "metadata": {},
   "outputs": [],
   "source": []
  }
 ],
 "metadata": {
  "kernelspec": {
   "display_name": "Python 3",
   "language": "python",
   "name": "python3"
  },
  "language_info": {
   "codemirror_mode": {
    "name": "ipython",
    "version": 3
   },
   "file_extension": ".py",
   "mimetype": "text/x-python",
   "name": "python",
   "nbconvert_exporter": "python",
   "pygments_lexer": "ipython3",
   "version": "3.7.7"
  },
  "toc": {
   "base_numbering": 1,
   "nav_menu": {},
   "number_sections": true,
   "sideBar": true,
   "skip_h1_title": false,
   "title_cell": "Table of Contents",
   "title_sidebar": "Contents",
   "toc_cell": false,
   "toc_position": {},
   "toc_section_display": true,
   "toc_window_display": false
  }
 },
 "nbformat": 4,
 "nbformat_minor": 4
}
