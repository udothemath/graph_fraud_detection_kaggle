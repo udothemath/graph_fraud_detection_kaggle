{
 "cells": [
  {
   "cell_type": "code",
   "execution_count": 1,
   "metadata": {},
   "outputs": [
    {
     "name": "stdout",
     "output_type": "stream",
     "text": [
      "/Users/pro/Documents/graph_fraud_detection_kaggle\n"
     ]
    }
   ],
   "source": [
    "import os\n",
    "import pandas as pd\n",
    "import numpy as np\n",
    "from sklearn.model_selection import train_test_split\n",
    "from sklearn.impute import SimpleImputer\n",
    "# imputer = SimpleImputer(missing_values=np.nan, strategy='mean')\n",
    "\n",
    "CURR_PATH = os.getcwd()\n",
    "print(CURR_PATH)\n"
   ]
  },
  {
   "cell_type": "code",
   "execution_count": 2,
   "metadata": {},
   "outputs": [
    {
     "name": "stderr",
     "output_type": "stream",
     "text": [
      "/Users/pro/opt/anaconda3/lib/python3.7/site-packages/numpy/lib/arraysetops.py:569: FutureWarning: elementwise comparison failed; returning scalar instead, but in the future will perform elementwise comparison\n",
      "  mask |= (ar1 == a)\n"
     ]
    }
   ],
   "source": [
    "data_file = '/data/train_v2.csv'\n",
    "df_train = pd.read_csv(CURR_PATH + data_file, header=0, index_col=0)"
   ]
  },
  {
   "cell_type": "code",
   "execution_count": 3,
   "metadata": {},
   "outputs": [],
   "source": [
    "data_file = '/data/test_v2.csv'\n",
    "df_test = pd.read_csv(CURR_PATH + data_file, header=0, index_col=0)"
   ]
  },
  {
   "cell_type": "code",
   "execution_count": 4,
   "metadata": {},
   "outputs": [
    {
     "name": "stdout",
     "output_type": "stream",
     "text": [
      "(1006717, 33)\n",
      "(421665, 32)\n"
     ]
    }
   ],
   "source": [
    "print(df_train.shape)\n",
    "print(df_test.shape)"
   ]
  },
  {
   "cell_type": "code",
   "execution_count": 5,
   "metadata": {},
   "outputs": [],
   "source": [
    "essential_info_cols = ['txkey', 'fraud_ind']\n",
    "desired_factors_cols = \\\n",
    "['hour', 'dt_dif1_chid', 'dt_dif2_cano', 'dt_dif1_cano_mchno',\n",
    " 'pct_of_mchno_fraud_1m', 'avg_mchno_fraud_amt_1m',\n",
    " 'avg_scity_fraud_amt_1w', 'ratio_mchno_notfraud_avg_amt_distance_1m',\n",
    " 'ratio_cumcnt_cano_ecfg_w', 'ratio_cumsum_bacno_d']\n",
    "\n",
    "basic_info = essential_info_cols + desired_factors_cols "
   ]
  },
  {
   "cell_type": "code",
   "execution_count": 6,
   "metadata": {},
   "outputs": [],
   "source": [
    "df_train = df_train[basic_info]"
   ]
  },
  {
   "cell_type": "code",
   "execution_count": 7,
   "metadata": {},
   "outputs": [
    {
     "data": {
      "text/html": [
       "<div>\n",
       "<style scoped>\n",
       "    .dataframe tbody tr th:only-of-type {\n",
       "        vertical-align: middle;\n",
       "    }\n",
       "\n",
       "    .dataframe tbody tr th {\n",
       "        vertical-align: top;\n",
       "    }\n",
       "\n",
       "    .dataframe thead th {\n",
       "        text-align: right;\n",
       "    }\n",
       "</style>\n",
       "<table border=\"1\" class=\"dataframe\">\n",
       "  <thead>\n",
       "    <tr style=\"text-align: right;\">\n",
       "      <th></th>\n",
       "      <th>txkey</th>\n",
       "      <th>fraud_ind</th>\n",
       "      <th>hour</th>\n",
       "      <th>dt_dif1_chid</th>\n",
       "      <th>dt_dif2_cano</th>\n",
       "      <th>dt_dif1_cano_mchno</th>\n",
       "      <th>pct_of_mchno_fraud_1m</th>\n",
       "      <th>avg_mchno_fraud_amt_1m</th>\n",
       "      <th>avg_scity_fraud_amt_1w</th>\n",
       "      <th>ratio_mchno_notfraud_avg_amt_distance_1m</th>\n",
       "      <th>ratio_cumcnt_cano_ecfg_w</th>\n",
       "      <th>ratio_cumsum_bacno_d</th>\n",
       "    </tr>\n",
       "  </thead>\n",
       "  <tbody>\n",
       "    <tr>\n",
       "      <th>count</th>\n",
       "      <td>1.006717e+06</td>\n",
       "      <td>1.006717e+06</td>\n",
       "      <td>1.006717e+06</td>\n",
       "      <td>1.006717e+06</td>\n",
       "      <td>1.006717e+06</td>\n",
       "      <td>1.006717e+06</td>\n",
       "      <td>1.006717e+06</td>\n",
       "      <td>1.006717e+06</td>\n",
       "      <td>1.006717e+06</td>\n",
       "      <td>1.006717e+06</td>\n",
       "      <td>1.006717e+06</td>\n",
       "      <td>1.006717e+06</td>\n",
       "    </tr>\n",
       "    <tr>\n",
       "      <th>mean</th>\n",
       "      <td>9.800084e+05</td>\n",
       "      <td>1.380229e-02</td>\n",
       "      <td>1.433051e+01</td>\n",
       "      <td>2.595823e+03</td>\n",
       "      <td>1.144425e+03</td>\n",
       "      <td>4.831213e+02</td>\n",
       "      <td>1.265799e-02</td>\n",
       "      <td>1.190764e+03</td>\n",
       "      <td>5.119724e+03</td>\n",
       "      <td>5.790267e+06</td>\n",
       "      <td>1.057681e+04</td>\n",
       "      <td>1.730814e+07</td>\n",
       "    </tr>\n",
       "    <tr>\n",
       "      <th>std</th>\n",
       "      <td>5.660302e+05</td>\n",
       "      <td>1.166696e-01</td>\n",
       "      <td>5.205202e+00</td>\n",
       "      <td>8.375091e+03</td>\n",
       "      <td>6.074580e+03</td>\n",
       "      <td>3.881298e+03</td>\n",
       "      <td>6.832390e-02</td>\n",
       "      <td>4.969185e+03</td>\n",
       "      <td>8.368379e+03</td>\n",
       "      <td>2.582179e+07</td>\n",
       "      <td>9.287047e+04</td>\n",
       "      <td>3.919981e+07</td>\n",
       "    </tr>\n",
       "    <tr>\n",
       "      <th>min</th>\n",
       "      <td>1.463800e+04</td>\n",
       "      <td>0.000000e+00</td>\n",
       "      <td>0.000000e+00</td>\n",
       "      <td>0.000000e+00</td>\n",
       "      <td>0.000000e+00</td>\n",
       "      <td>0.000000e+00</td>\n",
       "      <td>0.000000e+00</td>\n",
       "      <td>0.000000e+00</td>\n",
       "      <td>0.000000e+00</td>\n",
       "      <td>-1.000000e+00</td>\n",
       "      <td>0.000000e+00</td>\n",
       "      <td>0.000000e+00</td>\n",
       "    </tr>\n",
       "    <tr>\n",
       "      <th>25%</th>\n",
       "      <td>5.174670e+05</td>\n",
       "      <td>0.000000e+00</td>\n",
       "      <td>1.100000e+01</td>\n",
       "      <td>0.000000e+00</td>\n",
       "      <td>0.000000e+00</td>\n",
       "      <td>0.000000e+00</td>\n",
       "      <td>0.000000e+00</td>\n",
       "      <td>0.000000e+00</td>\n",
       "      <td>0.000000e+00</td>\n",
       "      <td>-9.808583e-01</td>\n",
       "      <td>0.000000e+00</td>\n",
       "      <td>1.279215e+00</td>\n",
       "    </tr>\n",
       "    <tr>\n",
       "      <th>50%</th>\n",
       "      <td>9.960640e+05</td>\n",
       "      <td>0.000000e+00</td>\n",
       "      <td>1.500000e+01</td>\n",
       "      <td>0.000000e+00</td>\n",
       "      <td>0.000000e+00</td>\n",
       "      <td>0.000000e+00</td>\n",
       "      <td>0.000000e+00</td>\n",
       "      <td>0.000000e+00</td>\n",
       "      <td>3.457453e+03</td>\n",
       "      <td>-8.005353e-01</td>\n",
       "      <td>0.000000e+00</td>\n",
       "      <td>3.399804e+00</td>\n",
       "    </tr>\n",
       "    <tr>\n",
       "      <th>75%</th>\n",
       "      <td>1.456488e+06</td>\n",
       "      <td>0.000000e+00</td>\n",
       "      <td>1.800000e+01</td>\n",
       "      <td>2.500000e+01</td>\n",
       "      <td>0.000000e+00</td>\n",
       "      <td>0.000000e+00</td>\n",
       "      <td>6.168270e-05</td>\n",
       "      <td>0.000000e+00</td>\n",
       "      <td>6.268214e+03</td>\n",
       "      <td>9.976221e-01</td>\n",
       "      <td>9.230741e-01</td>\n",
       "      <td>1.657059e+01</td>\n",
       "    </tr>\n",
       "    <tr>\n",
       "      <th>max</th>\n",
       "      <td>1.958239e+06</td>\n",
       "      <td>1.000000e+00</td>\n",
       "      <td>2.300000e+01</td>\n",
       "      <td>8.631200e+04</td>\n",
       "      <td>8.631100e+04</td>\n",
       "      <td>8.631200e+04</td>\n",
       "      <td>1.000000e+00</td>\n",
       "      <td>3.610070e+04</td>\n",
       "      <td>7.498529e+04</td>\n",
       "      <td>5.833700e+08</td>\n",
       "      <td>7.700000e+06</td>\n",
       "      <td>1.320937e+09</td>\n",
       "    </tr>\n",
       "  </tbody>\n",
       "</table>\n",
       "</div>"
      ],
      "text/plain": [
       "              txkey     fraud_ind          hour  dt_dif1_chid  dt_dif2_cano  \\\n",
       "count  1.006717e+06  1.006717e+06  1.006717e+06  1.006717e+06  1.006717e+06   \n",
       "mean   9.800084e+05  1.380229e-02  1.433051e+01  2.595823e+03  1.144425e+03   \n",
       "std    5.660302e+05  1.166696e-01  5.205202e+00  8.375091e+03  6.074580e+03   \n",
       "min    1.463800e+04  0.000000e+00  0.000000e+00  0.000000e+00  0.000000e+00   \n",
       "25%    5.174670e+05  0.000000e+00  1.100000e+01  0.000000e+00  0.000000e+00   \n",
       "50%    9.960640e+05  0.000000e+00  1.500000e+01  0.000000e+00  0.000000e+00   \n",
       "75%    1.456488e+06  0.000000e+00  1.800000e+01  2.500000e+01  0.000000e+00   \n",
       "max    1.958239e+06  1.000000e+00  2.300000e+01  8.631200e+04  8.631100e+04   \n",
       "\n",
       "       dt_dif1_cano_mchno  pct_of_mchno_fraud_1m  avg_mchno_fraud_amt_1m  \\\n",
       "count        1.006717e+06           1.006717e+06            1.006717e+06   \n",
       "mean         4.831213e+02           1.265799e-02            1.190764e+03   \n",
       "std          3.881298e+03           6.832390e-02            4.969185e+03   \n",
       "min          0.000000e+00           0.000000e+00            0.000000e+00   \n",
       "25%          0.000000e+00           0.000000e+00            0.000000e+00   \n",
       "50%          0.000000e+00           0.000000e+00            0.000000e+00   \n",
       "75%          0.000000e+00           6.168270e-05            0.000000e+00   \n",
       "max          8.631200e+04           1.000000e+00            3.610070e+04   \n",
       "\n",
       "       avg_scity_fraud_amt_1w  ratio_mchno_notfraud_avg_amt_distance_1m  \\\n",
       "count            1.006717e+06                              1.006717e+06   \n",
       "mean             5.119724e+03                              5.790267e+06   \n",
       "std              8.368379e+03                              2.582179e+07   \n",
       "min              0.000000e+00                             -1.000000e+00   \n",
       "25%              0.000000e+00                             -9.808583e-01   \n",
       "50%              3.457453e+03                             -8.005353e-01   \n",
       "75%              6.268214e+03                              9.976221e-01   \n",
       "max              7.498529e+04                              5.833700e+08   \n",
       "\n",
       "       ratio_cumcnt_cano_ecfg_w  ratio_cumsum_bacno_d  \n",
       "count              1.006717e+06          1.006717e+06  \n",
       "mean               1.057681e+04          1.730814e+07  \n",
       "std                9.287047e+04          3.919981e+07  \n",
       "min                0.000000e+00          0.000000e+00  \n",
       "25%                0.000000e+00          1.279215e+00  \n",
       "50%                0.000000e+00          3.399804e+00  \n",
       "75%                9.230741e-01          1.657059e+01  \n",
       "max                7.700000e+06          1.320937e+09  "
      ]
     },
     "execution_count": 7,
     "metadata": {},
     "output_type": "execute_result"
    }
   ],
   "source": [
    "df_train.describe()\n"
   ]
  },
  {
   "cell_type": "code",
   "execution_count": 8,
   "metadata": {},
   "outputs": [
    {
     "name": "stdout",
     "output_type": "stream",
     "text": [
      "<class 'pandas.core.frame.DataFrame'>\n",
      "Int64Index: 1006717 entries, 0 to 1942557\n",
      "Data columns (total 12 columns):\n",
      " #   Column                                    Non-Null Count    Dtype  \n",
      "---  ------                                    --------------    -----  \n",
      " 0   txkey                                     1006717 non-null  int64  \n",
      " 1   fraud_ind                                 1006717 non-null  float64\n",
      " 2   hour                                      1006717 non-null  int64  \n",
      " 3   dt_dif1_chid                              1006717 non-null  float64\n",
      " 4   dt_dif2_cano                              1006717 non-null  float64\n",
      " 5   dt_dif1_cano_mchno                        1006717 non-null  float64\n",
      " 6   pct_of_mchno_fraud_1m                     1006717 non-null  float64\n",
      " 7   avg_mchno_fraud_amt_1m                    1006717 non-null  float64\n",
      " 8   avg_scity_fraud_amt_1w                    1006717 non-null  float64\n",
      " 9   ratio_mchno_notfraud_avg_amt_distance_1m  1006717 non-null  float64\n",
      " 10  ratio_cumcnt_cano_ecfg_w                  1006717 non-null  float64\n",
      " 11  ratio_cumsum_bacno_d                      1006717 non-null  float64\n",
      "dtypes: float64(10), int64(2)\n",
      "memory usage: 99.8 MB\n"
     ]
    }
   ],
   "source": [
    "df_train.info()\n"
   ]
  },
  {
   "cell_type": "code",
   "execution_count": 9,
   "metadata": {},
   "outputs": [],
   "source": [
    "df_train['txkey'] = df_train.txkey.astype('object')"
   ]
  },
  {
   "cell_type": "code",
   "execution_count": 10,
   "metadata": {},
   "outputs": [
    {
     "name": "stdout",
     "output_type": "stream",
     "text": [
      "<class 'pandas.core.frame.DataFrame'>\n",
      "Int64Index: 1006717 entries, 0 to 1942557\n",
      "Data columns (total 12 columns):\n",
      " #   Column                                    Non-Null Count    Dtype  \n",
      "---  ------                                    --------------    -----  \n",
      " 0   txkey                                     1006717 non-null  object \n",
      " 1   fraud_ind                                 1006717 non-null  float64\n",
      " 2   hour                                      1006717 non-null  int64  \n",
      " 3   dt_dif1_chid                              1006717 non-null  float64\n",
      " 4   dt_dif2_cano                              1006717 non-null  float64\n",
      " 5   dt_dif1_cano_mchno                        1006717 non-null  float64\n",
      " 6   pct_of_mchno_fraud_1m                     1006717 non-null  float64\n",
      " 7   avg_mchno_fraud_amt_1m                    1006717 non-null  float64\n",
      " 8   avg_scity_fraud_amt_1w                    1006717 non-null  float64\n",
      " 9   ratio_mchno_notfraud_avg_amt_distance_1m  1006717 non-null  float64\n",
      " 10  ratio_cumcnt_cano_ecfg_w                  1006717 non-null  float64\n",
      " 11  ratio_cumsum_bacno_d                      1006717 non-null  float64\n",
      "dtypes: float64(10), int64(1), object(1)\n",
      "memory usage: 99.8+ MB\n"
     ]
    }
   ],
   "source": [
    "df_train.info()"
   ]
  },
  {
   "cell_type": "code",
   "execution_count": 11,
   "metadata": {},
   "outputs": [],
   "source": [
    "y = df_train.fraud_ind\n",
    "y = y.astype(np.int64)\n",
    "X = df_train.drop(['fraud_ind'], axis = 1).select_dtypes(exclude=['object'])"
   ]
  },
  {
   "cell_type": "code",
   "execution_count": 12,
   "metadata": {},
   "outputs": [],
   "source": [
    "from sklearn.model_selection import train_test_split\n",
    "train_X, test_X, train_y, test_y = train_test_split(X.values, \n",
    "                                                    y.to_numpy(), \n",
    "                                                    test_size=0.25,\n",
    "                                                    random_state = 123)"
   ]
  },
  {
   "cell_type": "code",
   "execution_count": 13,
   "metadata": {},
   "outputs": [],
   "source": [
    "imputer = SimpleImputer(missing_values=np.nan, strategy='mean')\n",
    "train_X = imputer.fit_transform(train_X)\n",
    "test_X = imputer.transform(test_X)"
   ]
  },
  {
   "cell_type": "code",
   "execution_count": null,
   "metadata": {},
   "outputs": [
    {
     "name": "stderr",
     "output_type": "stream",
     "text": [
      "/Users/pro/opt/anaconda3/lib/python3.7/site-packages/xgboost/sklearn.py:892: UserWarning: The use of label encoder in XGBClassifier is deprecated and will be removed in a future release. To remove this warning, do the following: 1) Pass option use_label_encoder=False when constructing XGBClassifier object; and 2) Encode your labels (y) as integers starting with 0, i.e. 0, 1, 2, ..., [num_class - 1].\n",
      "  warnings.warn(label_encoder_deprecation_msg, UserWarning)\n"
     ]
    },
    {
     "name": "stdout",
     "output_type": "stream",
     "text": [
      "[10:43:27] WARNING: /Users/travis/build/dmlc/xgboost/src/learner.cc:1061: Starting in XGBoost 1.3.0, the default evaluation metric used with the objective 'binary:logistic' was changed from 'error' to 'logloss'. Explicitly set eval_metric if you'd like to restore the old behavior.\n"
     ]
    }
   ],
   "source": [
    "from xgboost import XGBClassifier\n",
    "\n",
    "my_quick_model = XGBClassifier()\n",
    "# Add silent=True to avoid printing out updates with each cycle\n",
    "my_quick_model.fit(train_X, train_y, verbose=False)"
   ]
  },
  {
   "cell_type": "code",
   "execution_count": null,
   "metadata": {},
   "outputs": [],
   "source": [
    "pred_y = my_quick_model.predict(test_X)\n",
    "predictions = [round(value) for value in pred_y]"
   ]
  },
  {
   "cell_type": "code",
   "execution_count": null,
   "metadata": {},
   "outputs": [],
   "source": [
    "from sklearn.metrics import accuracy_score\n",
    "\n",
    "# evaluate predictions\n",
    "accuracy = accuracy_score(test_y, predictions)\n",
    "print(\"Accuracy: %.2f%%\" % (accuracy * 100.0))"
   ]
  },
  {
   "cell_type": "code",
   "execution_count": null,
   "metadata": {},
   "outputs": [],
   "source": [
    "{i:predictions.count(i) for i in np.unique(predictions)}"
   ]
  },
  {
   "cell_type": "markdown",
   "metadata": {},
   "source": [
    "### Test data prediction submission"
   ]
  },
  {
   "cell_type": "code",
   "execution_count": null,
   "metadata": {},
   "outputs": [],
   "source": [
    "test_data_for_sub = df_test[desired_factors_cols].values"
   ]
  },
  {
   "cell_type": "code",
   "execution_count": null,
   "metadata": {},
   "outputs": [],
   "source": [
    "pred_y_sub = my_quick_model.predict(test_data_for_sub)"
   ]
  },
  {
   "cell_type": "code",
   "execution_count": null,
   "metadata": {},
   "outputs": [],
   "source": [
    "unique, counts = np.unique(pred_y_sub, return_counts=True)\n",
    "dict(zip(unique, counts))"
   ]
  },
  {
   "cell_type": "code",
   "execution_count": null,
   "metadata": {},
   "outputs": [],
   "source": [
    "df_id_y_sub = pd.DataFrame({\n",
    "        \"TXKEY\": df_test['txkey'],\n",
    "        \"FRAUD_IND\": pred_y_sub\n",
    "        })"
   ]
  },
  {
   "cell_type": "code",
   "execution_count": null,
   "metadata": {},
   "outputs": [],
   "source": [
    "print (df_id_y_sub['FRAUD_IND'].value_counts())"
   ]
  },
  {
   "cell_type": "code",
   "execution_count": null,
   "metadata": {},
   "outputs": [],
   "source": [
    "df_id_y_sub.to_csv('submission.csv',index=False)"
   ]
  },
  {
   "cell_type": "code",
   "execution_count": null,
   "metadata": {},
   "outputs": [],
   "source": [
    "ready_for_submission = True"
   ]
  },
  {
   "cell_type": "code",
   "execution_count": null,
   "metadata": {},
   "outputs": [],
   "source": [
    "### Submit your result\n",
    "if ready_for_submission:\n",
    "    Message = \"default message\"\n",
    "    !kaggle competitions submit -c 2021-graph-vs-time-series -f submission.csv -m '$Message'\n",
    "    print (\"You just submitted your prediction.\")\n",
    "else:\n",
    "    print (\"Not yet.\")"
   ]
  },
  {
   "cell_type": "markdown",
   "metadata": {},
   "source": [
    "### Archive"
   ]
  },
  {
   "cell_type": "code",
   "execution_count": null,
   "metadata": {},
   "outputs": [],
   "source": [
    "# check_value_cnt = ['mcc', 'mchno', 'fraud_ind']\n",
    "# for x in check_value_cnt:\n",
    "#     print(f'Showing column {x}...')\n",
    "#     display(df_train[x].value_counts())\n"
   ]
  },
  {
   "cell_type": "code",
   "execution_count": null,
   "metadata": {},
   "outputs": [],
   "source": []
  }
 ],
 "metadata": {
  "kernelspec": {
   "display_name": "Python 3",
   "language": "python",
   "name": "python3"
  },
  "language_info": {
   "codemirror_mode": {
    "name": "ipython",
    "version": 3
   },
   "file_extension": ".py",
   "mimetype": "text/x-python",
   "name": "python",
   "nbconvert_exporter": "python",
   "pygments_lexer": "ipython3",
   "version": "3.7.7"
  },
  "toc": {
   "base_numbering": 1,
   "nav_menu": {},
   "number_sections": true,
   "sideBar": true,
   "skip_h1_title": false,
   "title_cell": "Table of Contents",
   "title_sidebar": "Contents",
   "toc_cell": false,
   "toc_position": {},
   "toc_section_display": true,
   "toc_window_display": false
  }
 },
 "nbformat": 4,
 "nbformat_minor": 4
}
